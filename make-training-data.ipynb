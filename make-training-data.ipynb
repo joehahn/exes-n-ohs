{
 "cells": [
  {
   "cell_type": "code",
   "execution_count": 1,
   "metadata": {},
   "outputs": [],
   "source": [
    "#make-training-data.ipynb\n",
    "#\n",
    "#by Joe Hahn\n",
    "#joe.hahn@oracle.com\n",
    "#3 July 2018\n",
    "#\n",
    "#generate training data"
   ]
  },
  {
   "cell_type": "code",
   "execution_count": 2,
   "metadata": {},
   "outputs": [
    {
     "name": "stdout",
     "output_type": "stream",
     "text": [
      "generating xo data...\n"
     ]
    },
    {
     "ename": "ImportError",
     "evalue": "No module named helper_fns",
     "output_type": "error",
     "traceback": [
      "\u001b[0;31m\u001b[0m",
      "\u001b[0;31mImportError\u001b[0mTraceback (most recent call last)",
      "\u001b[0;32m<ipython-input-2-97473d3e3d2c>\u001b[0m in \u001b[0;36m<module>\u001b[0;34m()\u001b[0m\n\u001b[1;32m     23\u001b[0m \u001b[0;32mprint\u001b[0m \u001b[0;34m'generating xo data...'\u001b[0m\u001b[0;34m\u001b[0m\u001b[0m\n\u001b[1;32m     24\u001b[0m \u001b[0minitial_id\u001b[0m \u001b[0;34m=\u001b[0m \u001b[0;36m0\u001b[0m\u001b[0;34m\u001b[0m\u001b[0m\n\u001b[0;32m---> 25\u001b[0;31m \u001b[0;32mfrom\u001b[0m \u001b[0mhelper_fns\u001b[0m \u001b[0;32mimport\u001b[0m \u001b[0;34m*\u001b[0m\u001b[0;34m\u001b[0m\u001b[0m\n\u001b[0m\u001b[1;32m     26\u001b[0m \u001b[0mtrain\u001b[0m \u001b[0;34m=\u001b[0m \u001b[0mmake_xo_data\u001b[0m\u001b[0;34m(\u001b[0m\u001b[0mN_train\u001b[0m\u001b[0;34m,\u001b[0m \u001b[0minitial_id\u001b[0m\u001b[0;34m,\u001b[0m \u001b[0mx_half_width\u001b[0m\u001b[0;34m,\u001b[0m \u001b[0mradius\u001b[0m\u001b[0;34m,\u001b[0m \u001b[0mbox_half_width\u001b[0m\u001b[0;34m,\u001b[0m \u001b[0mjitter\u001b[0m\u001b[0;34m,\u001b[0m \u001b[0mrn_seed\u001b[0m\u001b[0;34m,\u001b[0m \u001b[0mdebug\u001b[0m\u001b[0;34m)\u001b[0m\u001b[0;34m\u001b[0m\u001b[0m\n\u001b[1;32m     27\u001b[0m \u001b[0;32mprint\u001b[0m \u001b[0;34m'number of training records = '\u001b[0m\u001b[0;34m,\u001b[0m \u001b[0mlen\u001b[0m\u001b[0;34m(\u001b[0m\u001b[0mtrain\u001b[0m\u001b[0;34m)\u001b[0m\u001b[0;34m\u001b[0m\u001b[0m\n",
      "\u001b[0;31mImportError\u001b[0m: No module named helper_fns"
     ]
    }
   ],
   "source": [
    "#number of dots in training dataset\n",
    "N_train = 5#15000\n",
    "\n",
    "#half-thickness of the x\n",
    "x_half_width = 0.5\n",
    "\n",
    "#radius of the O\n",
    "radius = 3.5\n",
    "\n",
    "#box half-width before 45 degree rotation\n",
    "box_half_width = 7.1\n",
    "\n",
    "#set jitter=scale of the gaussian noise, to make the class boundaries slightly fuzzy\n",
    "jitter = 0.0\n",
    "\n",
    "#set seed for random number generator\n",
    "rn_seed = 13\n",
    "\n",
    "#set debug=True to see debugging output\n",
    "debug =  False\n",
    "\n",
    "#generate the xo dataset\n",
    "print 'generating xo data...'\n",
    "initial_id = 0\n",
    "from helper_fns import *\n",
    "train = make_xo_data(N_train, initial_id, x_half_width, radius, box_half_width, jitter, rn_seed, debug)\n",
    "print 'number of training records = ', len(train)\n",
    "\n",
    "##save training data as csv file\n",
    "#import pandas as pd\n",
    "#pd.set_option('display.expand_frame_repr', False)\n",
    "#print train.head(5)\n",
    "#train.to_csv('data/train.txt', sep='|', index=False, header=False)"
   ]
  },
  {
   "cell_type": "code",
   "execution_count": null,
   "metadata": {},
   "outputs": [],
   "source": [
    "train"
   ]
  },
  {
   "cell_type": "code",
   "execution_count": null,
   "metadata": {},
   "outputs": [],
   "source": []
  }
 ],
 "metadata": {
  "kernelspec": {
   "display_name": "Python 2",
   "language": "python",
   "name": "python2"
  },
  "language_info": {
   "codemirror_mode": {
    "name": "ipython",
    "version": 2
   },
   "file_extension": ".py",
   "mimetype": "text/x-python",
   "name": "python",
   "nbconvert_exporter": "python",
   "pygments_lexer": "ipython2",
   "version": "2.7.9"
  }
 },
 "nbformat": 4,
 "nbformat_minor": 2
}
