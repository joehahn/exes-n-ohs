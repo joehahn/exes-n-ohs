{
 "cells": [
  {
   "cell_type": "code",
   "execution_count": 4,
   "metadata": {},
   "outputs": [],
   "source": [
    "#make-training-data.ipynb\n",
    "#\n",
    "#by Joe Hahn\n",
    "#joe.hahn@oracle.com\n",
    "#3 July 2018\n",
    "#\n",
    "#generate training data"
   ]
  },
  {
   "cell_type": "code",
   "execution_count": 1,
   "metadata": {},
   "outputs": [],
   "source": [
    "N_train = 5#15000\n",
    "\n",
    "#half-thickness of the x\n",
    "x_half_width = 0.5\n",
    "\n",
    "#radius of the O\n",
    "radius = 3.5\n",
    "\n",
    "#box half-width before 45 degree rotation\n",
    "box_half_width = 7.1\n",
    "\n",
    "#set jitter=scale of the gaussian noise, to make the class boundaries slightly fuzzy\n",
    "jitter = 0.0\n",
    "\n",
    "#set seed for random number generator\n",
    "rn_seed = 13\n",
    "\n",
    "#set debug=True to see debugging output\n",
    "debug =  False"
   ]
  },
  {
   "cell_type": "code",
   "execution_count": 31,
   "metadata": {},
   "outputs": [],
   "source": [
    "import numpy as np\n",
    "rn_state = np.random.RandomState(seed=rn_seed)\n",
    "def make_xo_dict(x_half_width, radius, box_half_width, jitter, id=-1):\n",
    "    #get dot's cartesian coordinates\n",
    "    x = np.random.uniform(low=-box_half_width, high=box_half_width)\n",
    "    y = np.random.uniform(low=-box_half_width, high=box_half_width)\n",
    "    #get dot's class\n",
    "    dot_class = 'B'\n",
    "    r = np.sqrt(x**2 + y**2)\n",
    "    if (r < radius):\n",
    "        dot_class = 'O'\n",
    "    if (np.abs(x) < x_half_width) or (np.abs(y) < x_half_width):\n",
    "        dot_class = 'X'\n",
    "    #rotate coordinate system by 45 degrees\n",
    "    rot_angle = np.pi/4.0\n",
    "    c = np.cos(rot_angle)\n",
    "    s = np.sin(rot_angle)\n",
    "    xr =  x*c + y*s\n",
    "    yr = -x*s + y*c\n",
    "    #add gaussian noise aka jitter to dots' positions\n",
    "    xn = xr + np.random.normal(scale=jitter)\n",
    "    yn = yr + np.random.normal(scale=jitter)\n",
    "    #compute dot's polar coordinates\n",
    "    r = np.sqrt(xn**2 + yn**2)\n",
    "    angle = np.arctan2(yn, xn)\n",
    "    xo = {'id':id, 'x':xn, 'y':yn, 'r':r, 'angle':angle, 'class':dot_class}\n",
    "    return xo"
   ]
  },
  {
   "cell_type": "code",
   "execution_count": 55,
   "metadata": {},
   "outputs": [
    {
     "data": {
      "text/plain": [
       "{'angle': 2.6355360273670616,\n",
       " 'class': 'B',\n",
       " 'id': -1,\n",
       " 'r': 4.6020891015602805,\n",
       " 'x': -4.02527605817019,\n",
       " 'y': 2.230779405100775}"
      ]
     },
     "execution_count": 55,
     "metadata": {},
     "output_type": "execute_result"
    }
   ],
   "source": [
    "xo = make_xo_dict(x_half_width, radius, box_half_width, jitter, rn_state)\n",
    "xo"
   ]
  },
  {
   "cell_type": "code",
   "execution_count": 19,
   "metadata": {},
   "outputs": [],
   "source": [
    "np.random.normal?"
   ]
  },
  {
   "cell_type": "code",
   "execution_count": 5,
   "metadata": {},
   "outputs": [
    {
     "name": "stdout",
     "output_type": "stream",
     "text": [
      "generating xo data...\n",
      "number of training records =  5\n"
     ]
    }
   ],
   "source": [
    "#number of dots in training dataset\n",
    "N_train = 5#15000\n",
    "\n",
    "#half-thickness of the x\n",
    "x_half_width = 0.5\n",
    "\n",
    "#radius of the O\n",
    "radius = 3.5\n",
    "\n",
    "#box half-width before 45 degree rotation\n",
    "box_half_width = 7.1\n",
    "\n",
    "#set jitter=scale of the gaussian noise, to make the class boundaries slightly fuzzy\n",
    "jitter = 0.0\n",
    "\n",
    "#set seed for random number generator\n",
    "rn_seed = 13\n",
    "\n",
    "#set debug=True to see debugging output\n",
    "debug =  False\n",
    "\n",
    "#generate the xo dataset\n",
    "print 'generating xo data...'\n",
    "initial_id = 0\n",
    "from helper_fns import *\n",
    "train = make_xo_data(N_train, initial_id, x_half_width, radius, box_half_width, jitter, rn_seed, debug)\n",
    "print 'number of training records = ', len(train)\n",
    "\n",
    "##save training data as csv file\n",
    "#import pandas as pd\n",
    "#pd.set_option('display.expand_frame_repr', False)\n",
    "#print train.head(5)\n",
    "#train.to_csv('data/train.txt', sep='|', index=False, header=False)"
   ]
  },
  {
   "cell_type": "code",
   "execution_count": 6,
   "metadata": {},
   "outputs": [
    {
     "data": {
      "text/html": [
       "<div>\n",
       "<style scoped>\n",
       "    .dataframe tbody tr th:only-of-type {\n",
       "        vertical-align: middle;\n",
       "    }\n",
       "\n",
       "    .dataframe tbody tr th {\n",
       "        vertical-align: top;\n",
       "    }\n",
       "\n",
       "    .dataframe thead th {\n",
       "        text-align: right;\n",
       "    }\n",
       "</style>\n",
       "<table border=\"1\" class=\"dataframe\">\n",
       "  <thead>\n",
       "    <tr style=\"text-align: right;\">\n",
       "      <th></th>\n",
       "      <th>id</th>\n",
       "      <th>ran_num</th>\n",
       "      <th>class</th>\n",
       "      <th>Xscore</th>\n",
       "      <th>Oscore</th>\n",
       "      <th>Bscore</th>\n",
       "      <th>x0</th>\n",
       "      <th>y0</th>\n",
       "      <th>x</th>\n",
       "      <th>y</th>\n",
       "    </tr>\n",
       "  </thead>\n",
       "  <tbody>\n",
       "    <tr>\n",
       "      <th>0</th>\n",
       "      <td>0</td>\n",
       "      <td>0.300906</td>\n",
       "      <td>B</td>\n",
       "      <td>0.0</td>\n",
       "      <td>0.0</td>\n",
       "      <td>1.0</td>\n",
       "      <td>-4.823464</td>\n",
       "      <td>-0.891648</td>\n",
       "      <td>-4.823464</td>\n",
       "      <td>-0.891648</td>\n",
       "    </tr>\n",
       "    <tr>\n",
       "      <th>1</th>\n",
       "      <td>1</td>\n",
       "      <td>0.787947</td>\n",
       "      <td>B</td>\n",
       "      <td>0.0</td>\n",
       "      <td>0.0</td>\n",
       "      <td>1.0</td>\n",
       "      <td>-2.352056</td>\n",
       "      <td>5.039304</td>\n",
       "      <td>-2.352056</td>\n",
       "      <td>5.039304</td>\n",
       "    </tr>\n",
       "    <tr>\n",
       "      <th>2</th>\n",
       "      <td>2</td>\n",
       "      <td>0.203496</td>\n",
       "      <td>B</td>\n",
       "      <td>0.0</td>\n",
       "      <td>0.0</td>\n",
       "      <td>1.0</td>\n",
       "      <td>4.860233</td>\n",
       "      <td>1.974452</td>\n",
       "      <td>4.860233</td>\n",
       "      <td>1.974452</td>\n",
       "    </tr>\n",
       "    <tr>\n",
       "      <th>3</th>\n",
       "      <td>3</td>\n",
       "      <td>0.068962</td>\n",
       "      <td>B</td>\n",
       "      <td>0.0</td>\n",
       "      <td>0.0</td>\n",
       "      <td>1.0</td>\n",
       "      <td>-0.631747</td>\n",
       "      <td>-3.611439</td>\n",
       "      <td>-0.631747</td>\n",
       "      <td>-3.611439</td>\n",
       "    </tr>\n",
       "    <tr>\n",
       "      <th>4</th>\n",
       "      <td>4</td>\n",
       "      <td>0.302051</td>\n",
       "      <td>O</td>\n",
       "      <td>0.0</td>\n",
       "      <td>1.0</td>\n",
       "      <td>0.0</td>\n",
       "      <td>-0.891088</td>\n",
       "      <td>2.861341</td>\n",
       "      <td>-0.891088</td>\n",
       "      <td>2.861341</td>\n",
       "    </tr>\n",
       "  </tbody>\n",
       "</table>\n",
       "</div>"
      ],
      "text/plain": [
       "   id   ran_num class  Xscore  Oscore  Bscore        x0        y0         x  \\\n",
       "0   0  0.300906     B     0.0     0.0     1.0 -4.823464 -0.891648 -4.823464   \n",
       "1   1  0.787947     B     0.0     0.0     1.0 -2.352056  5.039304 -2.352056   \n",
       "2   2  0.203496     B     0.0     0.0     1.0  4.860233  1.974452  4.860233   \n",
       "3   3  0.068962     B     0.0     0.0     1.0 -0.631747 -3.611439 -0.631747   \n",
       "4   4  0.302051     O     0.0     1.0     0.0 -0.891088  2.861341 -0.891088   \n",
       "\n",
       "          y  \n",
       "0 -0.891648  \n",
       "1  5.039304  \n",
       "2  1.974452  \n",
       "3 -3.611439  \n",
       "4  2.861341  "
      ]
     },
     "execution_count": 6,
     "metadata": {},
     "output_type": "execute_result"
    }
   ],
   "source": [
    "train"
   ]
  },
  {
   "cell_type": "code",
   "execution_count": null,
   "metadata": {},
   "outputs": [],
   "source": []
  }
 ],
 "metadata": {
  "kernelspec": {
   "display_name": "Python 2",
   "language": "python",
   "name": "python2"
  },
  "language_info": {
   "codemirror_mode": {
    "name": "ipython",
    "version": 2
   },
   "file_extension": ".py",
   "mimetype": "text/x-python",
   "name": "python",
   "nbconvert_exporter": "python",
   "pygments_lexer": "ipython2",
   "version": "2.7.9"
  }
 },
 "nbformat": 4,
 "nbformat_minor": 2
}
