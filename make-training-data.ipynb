{
 "cells": [
  {
   "cell_type": "code",
   "execution_count": 1,
   "metadata": {},
   "outputs": [],
   "source": [
    "#make-training-data.ipynb\n",
    "#\n",
    "#by Joe Hahn\n",
    "#joe.hahn@oracle.com\n",
    "#3 July 2018\n",
    "#\n",
    "#generate training data"
   ]
  },
  {
   "cell_type": "code",
   "execution_count": 2,
   "metadata": {},
   "outputs": [],
   "source": [
    "N_train = 5#15000\n",
    "\n",
    "#half-thickness of the x\n",
    "x_half_width = 0.5\n",
    "\n",
    "#radius of the O\n",
    "radius = 3.5\n",
    "\n",
    "#box half-width before 45 degree rotation\n",
    "box_half_width = 7.1\n",
    "\n",
    "#set jitter=scale of the gaussian noise, to make the class boundaries slightly fuzzy\n",
    "jitter = 0.0\n",
    "\n",
    "#set seed for random number generator\n",
    "rn_seed = 13\n",
    "\n",
    "#set debug=True to see debugging output\n",
    "debug =  False"
   ]
  },
  {
   "cell_type": "code",
   "execution_count": 3,
   "metadata": {},
   "outputs": [],
   "source": [
    "import numpy as np\n",
    "#rn_state = np.random.RandomState(seed=rn_seed)\n",
    "def make_xo_dict(x_half_width, radius, box_half_width, jitter, idd=-1):\n",
    "    #get dot's cartesian coordinates\n",
    "    x = np.random.uniform(low=-box_half_width, high=box_half_width)\n",
    "    y = np.random.uniform(low=-box_half_width, high=box_half_width)\n",
    "    #get dot's class\n",
    "    dot_class = 'B'\n",
    "    r = np.sqrt(x**2 + y**2)\n",
    "    if (r < radius):\n",
    "        dot_class = 'O'\n",
    "    if (np.abs(x) < x_half_width) or (np.abs(y) < x_half_width):\n",
    "        dot_class = 'X'\n",
    "    #rotate coordinate system by 45 degrees\n",
    "    rot_angle = np.pi/4.0\n",
    "    c = np.cos(rot_angle)\n",
    "    s = np.sin(rot_angle)\n",
    "    xr =  x*c + y*s\n",
    "    yr = -x*s + y*c\n",
    "    #add gaussian noise aka jitter to dots' positions\n",
    "    xn = xr + np.random.normal(scale=jitter)\n",
    "    yn = yr + np.random.normal(scale=jitter)\n",
    "    #compute dot's polar coordinates\n",
    "    r = np.sqrt(xn**2 + yn**2)\n",
    "    angle = np.arctan2(yn, xn)\n",
    "    xo = {'idd':idd, 'x':xn, 'y':yn, 'r':r, 'angle':angle, 'class':dot_class}\n",
    "    return xo"
   ]
  },
  {
   "cell_type": "code",
   "execution_count": 4,
   "metadata": {},
   "outputs": [
    {
     "ename": "NameError",
     "evalue": "name 'rn_state' is not defined",
     "output_type": "error",
     "traceback": [
      "\u001b[0;31m\u001b[0m",
      "\u001b[0;31mNameError\u001b[0mTraceback (most recent call last)",
      "\u001b[0;32m<ipython-input-4-addcfc6e0294>\u001b[0m in \u001b[0;36m<module>\u001b[0;34m()\u001b[0m\n\u001b[0;32m----> 1\u001b[0;31m \u001b[0mxo\u001b[0m \u001b[0;34m=\u001b[0m \u001b[0mmake_xo_dict\u001b[0m\u001b[0;34m(\u001b[0m\u001b[0mx_half_width\u001b[0m\u001b[0;34m,\u001b[0m \u001b[0mradius\u001b[0m\u001b[0;34m,\u001b[0m \u001b[0mbox_half_width\u001b[0m\u001b[0;34m,\u001b[0m \u001b[0mjitter\u001b[0m\u001b[0;34m,\u001b[0m \u001b[0mrn_state\u001b[0m\u001b[0;34m)\u001b[0m\u001b[0;34m\u001b[0m\u001b[0m\n\u001b[0m\u001b[1;32m      2\u001b[0m \u001b[0mxo\u001b[0m\u001b[0;34m\u001b[0m\u001b[0m\n",
      "\u001b[0;31mNameError\u001b[0m: name 'rn_state' is not defined"
     ]
    }
   ],
   "source": [
    "xo = make_xo_dict(x_half_width, radius, box_half_width, jitter, rn_state)\n",
    "xo"
   ]
  },
  {
   "cell_type": "code",
   "execution_count": null,
   "metadata": {},
   "outputs": [],
   "source": [
    "np.random.normal?"
   ]
  },
  {
   "cell_type": "code",
   "execution_count": null,
   "metadata": {},
   "outputs": [],
   "source": [
    "#number of dots in training dataset\n",
    "N_train = 5#15000\n",
    "\n",
    "#half-thickness of the x\n",
    "x_half_width = 0.5\n",
    "\n",
    "#radius of the O\n",
    "radius = 3.5\n",
    "\n",
    "#box half-width before 45 degree rotation\n",
    "box_half_width = 7.1\n",
    "\n",
    "#set jitter=scale of the gaussian noise, to make the class boundaries slightly fuzzy\n",
    "jitter = 0.0\n",
    "\n",
    "#set seed for random number generator\n",
    "rn_seed = 13\n",
    "\n",
    "#set debug=True to see debugging output\n",
    "debug =  False\n",
    "\n",
    "#generate the xo dataset\n",
    "print 'generating xo data...'\n",
    "initial_id = 0\n",
    "from helper_fns import *\n",
    "train = make_xo_data(N_train, initial_id, x_half_width, radius, box_half_width, jitter, rn_seed, debug)\n",
    "print 'number of training records = ', len(train)\n",
    "\n",
    "##save training data as csv file\n",
    "#import pandas as pd\n",
    "#pd.set_option('display.expand_frame_repr', False)\n",
    "#print train.head(5)\n",
    "#train.to_csv('data/train.txt', sep='|', index=False, header=False)"
   ]
  },
  {
   "cell_type": "code",
   "execution_count": null,
   "metadata": {},
   "outputs": [],
   "source": [
    "train"
   ]
  },
  {
   "cell_type": "code",
   "execution_count": null,
   "metadata": {},
   "outputs": [],
   "source": []
  }
 ],
 "metadata": {
  "kernelspec": {
   "display_name": "Python 2",
   "language": "python",
   "name": "python2"
  },
  "language_info": {
   "codemirror_mode": {
    "name": "ipython",
    "version": 2
   },
   "file_extension": ".py",
   "mimetype": "text/x-python",
   "name": "python",
   "nbconvert_exporter": "python",
   "pygments_lexer": "ipython2",
   "version": "2.7.9"
  }
 },
 "nbformat": 4,
 "nbformat_minor": 2
}
