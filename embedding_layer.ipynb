{
 "cells": [
  {
   "cell_type": "code",
   "execution_count": 1,
   "metadata": {},
   "outputs": [],
   "source": [
    "#embedding_layer.ipynb \n",
    "# \n",
    "#by Joe Hahn\n",
    "#joe.hahn@oracle.com\n",
    "#27 July 2018\n",
    "#\n",
    "#train an embedding layer on the XO dataset"
   ]
  },
  {
   "cell_type": "code",
   "execution_count": 2,
   "metadata": {},
   "outputs": [],
   "source": [
    "#set system parameters\n",
    "x_half_width = 0.5\n",
    "radius = 3.5\n",
    "box_half_width = 7.1\n",
    "jitter = 1.0\n",
    "rn_seed = 15\n",
    "initial_id = 0"
   ]
  },
  {
   "cell_type": "code",
   "execution_count": 3,
   "metadata": {},
   "outputs": [],
   "source": [
    "#start time\n",
    "import time as tm\n",
    "time_start = tm.time()"
   ]
  },
  {
   "cell_type": "code",
   "execution_count": 9,
   "metadata": {},
   "outputs": [
    {
     "name": "stdout",
     "output_type": "stream",
     "text": [
      "class\n",
      "B    3380\n",
      "O    3380\n",
      "X    3380\n",
      "Name: id, dtype: int64\n"
     ]
    },
    {
     "data": {
      "text/html": [
       "<div>\n",
       "<style scoped>\n",
       "    .dataframe tbody tr th:only-of-type {\n",
       "        vertical-align: middle;\n",
       "    }\n",
       "\n",
       "    .dataframe tbody tr th {\n",
       "        vertical-align: top;\n",
       "    }\n",
       "\n",
       "    .dataframe thead th {\n",
       "        text-align: right;\n",
       "    }\n",
       "</style>\n",
       "<table border=\"1\" class=\"dataframe\">\n",
       "  <thead>\n",
       "    <tr style=\"text-align: right;\">\n",
       "      <th></th>\n",
       "      <th>id</th>\n",
       "      <th>x</th>\n",
       "      <th>y</th>\n",
       "      <th>r</th>\n",
       "      <th>angle</th>\n",
       "      <th>class</th>\n",
       "      <th>X_score</th>\n",
       "      <th>O_score</th>\n",
       "      <th>B_score</th>\n",
       "    </tr>\n",
       "  </thead>\n",
       "  <tbody>\n",
       "    <tr>\n",
       "      <th>10135</th>\n",
       "      <td>18549</td>\n",
       "      <td>1.104946</td>\n",
       "      <td>-2.493079</td>\n",
       "      <td>2.726967</td>\n",
       "      <td>-1.153607</td>\n",
       "      <td>O</td>\n",
       "      <td>0.0</td>\n",
       "      <td>1.0</td>\n",
       "      <td>0.0</td>\n",
       "    </tr>\n",
       "    <tr>\n",
       "      <th>10136</th>\n",
       "      <td>20087</td>\n",
       "      <td>1.702426</td>\n",
       "      <td>0.807118</td>\n",
       "      <td>1.884063</td>\n",
       "      <td>0.442713</td>\n",
       "      <td>O</td>\n",
       "      <td>0.0</td>\n",
       "      <td>1.0</td>\n",
       "      <td>0.0</td>\n",
       "    </tr>\n",
       "    <tr>\n",
       "      <th>10137</th>\n",
       "      <td>19014</td>\n",
       "      <td>-0.333025</td>\n",
       "      <td>1.423073</td>\n",
       "      <td>1.461520</td>\n",
       "      <td>1.800677</td>\n",
       "      <td>X</td>\n",
       "      <td>1.0</td>\n",
       "      <td>0.0</td>\n",
       "      <td>0.0</td>\n",
       "    </tr>\n",
       "    <tr>\n",
       "      <th>10138</th>\n",
       "      <td>23069</td>\n",
       "      <td>0.191831</td>\n",
       "      <td>2.530519</td>\n",
       "      <td>2.537779</td>\n",
       "      <td>1.495134</td>\n",
       "      <td>O</td>\n",
       "      <td>0.0</td>\n",
       "      <td>1.0</td>\n",
       "      <td>0.0</td>\n",
       "    </tr>\n",
       "    <tr>\n",
       "      <th>10139</th>\n",
       "      <td>16853</td>\n",
       "      <td>3.571846</td>\n",
       "      <td>-2.792311</td>\n",
       "      <td>4.533772</td>\n",
       "      <td>-0.663517</td>\n",
       "      <td>X</td>\n",
       "      <td>1.0</td>\n",
       "      <td>0.0</td>\n",
       "      <td>0.0</td>\n",
       "    </tr>\n",
       "  </tbody>\n",
       "</table>\n",
       "</div>"
      ],
      "text/plain": [
       "          id         x         y         r     angle class  X_score  O_score  \\\n",
       "10135  18549  1.104946 -2.493079  2.726967 -1.153607     O      0.0      1.0   \n",
       "10136  20087  1.702426  0.807118  1.884063  0.442713     O      0.0      1.0   \n",
       "10137  19014 -0.333025  1.423073  1.461520  1.800677     X      1.0      0.0   \n",
       "10138  23069  0.191831  2.530519  2.537779  1.495134     O      0.0      1.0   \n",
       "10139  16853  3.571846 -2.792311  4.533772 -0.663517     X      1.0      0.0   \n",
       "\n",
       "       B_score  \n",
       "10135      0.0  \n",
       "10136      0.0  \n",
       "10137      0.0  \n",
       "10138      0.0  \n",
       "10139      0.0  "
      ]
     },
     "execution_count": 9,
     "metadata": {},
     "output_type": "execute_result"
    }
   ],
   "source": [
    "#generate balanced training data\n",
    "N_dots = 26700\n",
    "import numpy as np\n",
    "rn_state = np.random.RandomState(seed=rn_seed)\n",
    "from helper_fns import *\n",
    "df = make_xo_df(N_dots, initial_id, x_half_width, radius, box_half_width, jitter)\n",
    "df = rebalance_df(train)\n",
    "print df.groupby('class')['id'].count()\n",
    "train = df\n",
    "train.tail(5)"
   ]
  },
  {
   "cell_type": "code",
   "execution_count": 11,
   "metadata": {},
   "outputs": [
    {
     "name": "stdout",
     "output_type": "stream",
     "text": [
      "x.shape =  (10140, 2)\n",
      "y.shape =  (10140, 3)\n"
     ]
    },
    {
     "data": {
      "text/plain": [
       "array([[-8.39027587,  1.92749158],\n",
       "       [ 0.72665317, -0.87579893],\n",
       "       [ 0.18988122, -1.97527298],\n",
       "       ..., \n",
       "       [-0.33302456,  1.42307251],\n",
       "       [ 0.19183067,  2.53051874],\n",
       "       [ 3.57184635, -2.79231114]])"
      ]
     },
     "execution_count": 11,
     "metadata": {},
     "output_type": "execute_result"
    }
   ],
   "source": [
    "#select x-features and y = target variables = class-scores\n",
    "x_cols = ['x', 'y']\n",
    "y_cols = ['O_score', 'X_score', 'B_score']\n",
    "x = train[x_cols].values\n",
    "y = train[y_cols].values\n",
    "print 'x.shape = ', x.shape\n",
    "print 'y.shape = ', y.shape\n",
    "x"
   ]
  },
  {
   "cell_type": "code",
   "execution_count": null,
   "metadata": {},
   "outputs": [],
   "source": [
    "#model parameters\n",
    "N_input = len(x_cols)\n",
    "N_output = len(y_cols)\n",
    "vocab_size = 100\n",
    "embedding_dimension = vocab_size"
   ]
  },
  {
   "cell_type": "code",
   "execution_count": null,
   "metadata": {},
   "outputs": [],
   "source": [
    "#rescale x so 0 <= x < vocab_size\n",
    "x = x - x.min()\n",
    "x /= x.max()\n",
    "x *= vocab_size - 1\n",
    "x = x.astype(int)\n",
    "#pad x with zeros\n",
    "max_length = vocab_size\n",
    "from keras.preprocessing.sequence import pad_sequences\n",
    "x = pad_sequences(x, maxlen=max_length, padding='post')\n",
    "N_input = x.shape[1]\n",
    "print 'x.min() = ', x.min()\n",
    "print 'x.max() = ', x.max()\n",
    "print 'vocab_size, embedding_dimension, N_input = ', vocab_size, embedding_dimension, N_input\n",
    "print 'x.shape = ', x.shape\n",
    "x_train = x\n",
    "y_train = y\n",
    "x_train"
   ]
  },
  {
   "cell_type": "code",
   "execution_count": null,
   "metadata": {},
   "outputs": [],
   "source": [
    "#generate validation data\n",
    "#...generate XO data and rebalance\n",
    "df = make_xo_df(N_dots, initial_id, x_half_width, radius, box_half_width, jitter)\n",
    "idx_O = (df['class'] == 'O')\n",
    "idx_X = (df['class'] == 'X')\n",
    "idx_B = (df['class'] == 'B')\n",
    "df = df[idx_O].append(df[idx_X]).append(df[idx_B].sample(n=idx_O.sum()))\n",
    "df['ran_num'] = np.random.uniform(size=len(df))\n",
    "df = df.sort_values('ran_num').reset_index(drop=True)\n",
    "print df.groupby('class')['id'].count()\n",
    "x = df[x_cols].values\n",
    "y = df[y_cols].values\n",
    "#rescale so 0<x<vocab_size\n",
    "x = x - x.min()\n",
    "x /= x.max()\n",
    "x *= vocab_size - 1\n",
    "x = x.astype(int)\n",
    "#pad x with zeros\n",
    "x = pad_sequences(x, maxlen=max_length, padding='post')\n",
    "print 'x.min() = ', x.min()\n",
    "print 'x.max() = ', x.max()\n",
    "print 'vocab_size, embedding_dimension, N_input = ', vocab_size, embedding_dimension, N_input\n",
    "print 'x.shape = ', x.shape\n",
    "x_val = x\n",
    "y_val = y\n",
    "x_val"
   ]
  },
  {
   "cell_type": "code",
   "execution_count": null,
   "metadata": {},
   "outputs": [],
   "source": [
    "#this helper function builds an embedding classifier composed of single embedding layer\n",
    "def embedding_classifier(vocab_size, embedding_dimension, N_input, N_output):\n",
    "    from keras.models import Sequential\n",
    "    from keras.layers.embeddings import Embedding\n",
    "    from keras.layers import Flatten\n",
    "    from keras.layers import Dense\n",
    "    model = Sequential()\n",
    "    model.add(Embedding(vocab_size, embedding_dimension, input_length=N_input))\n",
    "    model.add(Flatten())\n",
    "    model.add(Dense(N_output, activation='sigmoid'))\n",
    "    model.compile(optimizer='adam', loss='binary_crossentropy', metrics=['acc'])\n",
    "    return model"
   ]
  },
  {
   "cell_type": "code",
   "execution_count": null,
   "metadata": {},
   "outputs": [],
   "source": [
    "#build embedding classification model\n",
    "print 'vocab_size = ', vocab_size\n",
    "print 'embedding_dimension = ', embedding_dimension\n",
    "print 'N_input = ', N_input\n",
    "print 'N_output = ', N_output\n",
    "print 'x.shape = ', x.shape\n",
    "model = embedding_classifier(vocab_size, embedding_dimension, N_input, N_output)\n",
    "model.summary()"
   ]
  },
  {
   "cell_type": "code",
   "execution_count": null,
   "metadata": {
    "scrolled": false
   },
   "outputs": [],
   "source": [
    "#fit model to the training data\n",
    "N_training_epochs = 100\n",
    "batch_size = len(x_train)/10\n",
    "model = embedding_classifier(vocab_size, embedding_dimension, N_input, N_output)\n",
    "fit_history = model.fit(x_train, y_train, epochs=N_training_epochs, batch_size=batch_size, verbose=0, \\\n",
    "    validation_data=(x_val, y_val))"
   ]
  },
  {
   "cell_type": "code",
   "execution_count": null,
   "metadata": {},
   "outputs": [],
   "source": [
    "#prep plots\n",
    "%matplotlib inline\n",
    "import matplotlib.pyplot as plt\n",
    "from matplotlib import rcParams\n",
    "import seaborn as sns\n",
    "sns.set(font_scale=1.5, font='DejaVu Sans')"
   ]
  },
  {
   "cell_type": "code",
   "execution_count": null,
   "metadata": {},
   "outputs": [],
   "source": [
    "#plot accuracy vs training epoch\n",
    "fig, ax = plt.subplots(1,1, figsize=(15, 6))\n",
    "xp = fit_history.epoch\n",
    "yp = fit_history.history['loss']\n",
    "ax.plot(xp, yp, label='training sample')\n",
    "yp = fit_history.history['val_loss']\n",
    "ax.plot(xp, yp, label='validation sample')\n",
    "ax.set_title('classifier loss versus training epoch')\n",
    "ax.set_ylabel('loss')\n",
    "ax.set_xlabel('training epoch')\n",
    "ax.legend(loc='lower left')\n",
    "ax.set_ylim(0.95*np.min(yp[1:]), 1.05*np.max(yp[1:]))\n",
    "plt.savefig('figs/mlp_loss.png')\n",
    "print 'final validation loss = ', yp[-1]"
   ]
  },
  {
   "cell_type": "code",
   "execution_count": null,
   "metadata": {},
   "outputs": [],
   "source": [
    "#generate testing data\n",
    "#...generate XO data and rebalance\n",
    "df = make_xo_df(N_dots, initial_id, x_half_width, radius, box_half_width, jitter)\n",
    "x = df[x_cols].values\n",
    "y = df[y_cols].values\n",
    "#rescale so 0<x<vocab_size\n",
    "x = x - x.min()\n",
    "x /= x.max()\n",
    "x *= vocab_size - 1\n",
    "x = x.astype(int)\n",
    "#pad x with zeros\n",
    "x = pad_sequences(x, maxlen=max_length, padding='post')\n",
    "print 'x.min() = ', x.min()\n",
    "print 'x.max() = ', x.max()\n",
    "print 'vocab_size, embedding_dimension, N_input = ', vocab_size, embedding_dimension, N_input\n",
    "print 'x.shape = ', x.shape\n",
    "x_test = x\n",
    "y_test = y\n",
    "xy = df"
   ]
  },
  {
   "cell_type": "code",
   "execution_count": null,
   "metadata": {},
   "outputs": [],
   "source": [
    "#generate predicted class probabilities and their predicted X,O,B\n",
    "y_pred = model.predict(x_test)\n",
    "for idx in range(len(y_cols)):\n",
    "    y_col = y_cols[idx]\n",
    "    xy[y_col] = y_pred[:, idx]\n",
    "idx = (xy.O_score > xy.X_score) & (xy.O_score > xy.B_score)\n",
    "xy.loc[idx, 'class_pred'] = 'O'\n",
    "idx = (xy.X_score > xy.B_score) & (xy.X_score > xy.O_score)\n",
    "xy.loc[idx, 'class_pred'] = 'X'\n",
    "idx = (xy.B_score > xy.O_score) & (xy.B_score > xy.X_score)\n",
    "xy.loc[idx, 'class_pred'] = 'B'\n",
    "loss, accuracy = model.evaluate(x, y, verbose=0)\n",
    "print 'testing loss = ', loss\n",
    "print 'testing accuracy = ', accuracy\n",
    "xy.head()"
   ]
  },
  {
   "cell_type": "code",
   "execution_count": null,
   "metadata": {},
   "outputs": [],
   "source": [
    "#scatterplot showing model's predicted decision boundaries\n",
    "df = xy\n",
    "xy_rng = (-6.5, 6.5)\n",
    "sz = 30\n",
    "f, ax = plt.subplots(figsize=(10,10))\n",
    "lbl = 'B'\n",
    "idx = (df['class_pred'] == lbl)\n",
    "xp = df[idx].x\n",
    "yp = df[idx].y\n",
    "p = sns.regplot(xp, yp, ax=ax, fit_reg=False, scatter_kws={'alpha':0.6, 's': sz}, marker='s', label=lbl)\n",
    "lbl = 'X'\n",
    "idx = (df['class_pred'] == lbl)\n",
    "xp = df[idx].x\n",
    "yp = df[idx].y\n",
    "p = sns.regplot(xp, yp, ax=ax, fit_reg=False, scatter_kws={'alpha':0.6, 's': sz}, marker='s', label=lbl)\n",
    "lbl = 'O'\n",
    "idx = (df['class_pred'] == lbl)\n",
    "xp = df[idx].x\n",
    "yp = df[idx].y\n",
    "p = sns.regplot(xp, yp, ax=ax, fit_reg=False, scatter_kws={'alpha':0.6, 's': sz}, marker='s', label=lbl)\n",
    "p = ax.set_title('MLP-inferred decision boundary')\n",
    "p = ax.set_xlabel('x')\n",
    "p = ax.set_ylabel('y')\n",
    "p = ax.set_xlim(xy_rng)\n",
    "p = ax.set_ylim(xy_rng)\n",
    "#plt.savefig('figs/mlp_decision_boundary.png')"
   ]
  },
  {
   "cell_type": "code",
   "execution_count": null,
   "metadata": {},
   "outputs": [],
   "source": [
    "#done\n",
    "time_stop = tm.time()\n",
    "print 'execution time (minutes) = ', (time_stop - time_start)/60.0"
   ]
  },
  {
   "cell_type": "code",
   "execution_count": null,
   "metadata": {},
   "outputs": [],
   "source": []
  }
 ],
 "metadata": {
  "kernelspec": {
   "display_name": "Python 2",
   "language": "python",
   "name": "python2"
  },
  "language_info": {
   "codemirror_mode": {
    "name": "ipython",
    "version": 2
   },
   "file_extension": ".py",
   "mimetype": "text/x-python",
   "name": "python",
   "nbconvert_exporter": "python",
   "pygments_lexer": "ipython2",
   "version": "2.7.15"
  }
 },
 "nbformat": 4,
 "nbformat_minor": 2
}
