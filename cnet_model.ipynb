{
 "cells": [
  {
   "cell_type": "code",
   "execution_count": 1,
   "metadata": {},
   "outputs": [],
   "source": [
    "#cnet_model.ipynb \n",
    "# \n",
    "#by Joe Hahn\n",
    "#joe.hahn@oracle.com\n",
    "#30 July 2018\n",
    "#\n",
    "#train a cnet model on the XO dataset"
   ]
  },
  {
   "cell_type": "code",
   "execution_count": 2,
   "metadata": {},
   "outputs": [],
   "source": [
    "#set system parameters\n",
    "x_half_width = 0.5\n",
    "radius = 3.5\n",
    "box_half_width = 7.1\n",
    "jitter = 1.0\n",
    "rn_seed = 15\n",
    "initial_id = 0"
   ]
  },
  {
   "cell_type": "code",
   "execution_count": 3,
   "metadata": {},
   "outputs": [],
   "source": [
    "#start time\n",
    "import time as tm\n",
    "time_start = tm.time()"
   ]
  },
  {
   "cell_type": "code",
   "execution_count": 4,
   "metadata": {},
   "outputs": [
    {
     "name": "stdout",
     "output_type": "stream",
     "text": [
      "class\n",
      "B    1816\n",
      "O    1816\n",
      "X    3633\n",
      "Name: id, dtype: int64\n"
     ]
    },
    {
     "data": {
      "text/html": [
       "<div>\n",
       "<style scoped>\n",
       "    .dataframe tbody tr th:only-of-type {\n",
       "        vertical-align: middle;\n",
       "    }\n",
       "\n",
       "    .dataframe tbody tr th {\n",
       "        vertical-align: top;\n",
       "    }\n",
       "\n",
       "    .dataframe thead th {\n",
       "        text-align: right;\n",
       "    }\n",
       "</style>\n",
       "<table border=\"1\" class=\"dataframe\">\n",
       "  <thead>\n",
       "    <tr style=\"text-align: right;\">\n",
       "      <th></th>\n",
       "      <th>id</th>\n",
       "      <th>x</th>\n",
       "      <th>y</th>\n",
       "      <th>r</th>\n",
       "      <th>angle</th>\n",
       "      <th>class</th>\n",
       "      <th>X_score</th>\n",
       "      <th>O_score</th>\n",
       "      <th>B_score</th>\n",
       "    </tr>\n",
       "  </thead>\n",
       "  <tbody>\n",
       "    <tr>\n",
       "      <th>7260</th>\n",
       "      <td>20046</td>\n",
       "      <td>-0.974254</td>\n",
       "      <td>0.457693</td>\n",
       "      <td>1.076408</td>\n",
       "      <td>2.702405</td>\n",
       "      <td>O</td>\n",
       "      <td>0.0</td>\n",
       "      <td>1.0</td>\n",
       "      <td>0.0</td>\n",
       "    </tr>\n",
       "    <tr>\n",
       "      <th>7261</th>\n",
       "      <td>6148</td>\n",
       "      <td>0.969538</td>\n",
       "      <td>0.566458</td>\n",
       "      <td>1.122889</td>\n",
       "      <td>0.528763</td>\n",
       "      <td>X</td>\n",
       "      <td>1.0</td>\n",
       "      <td>0.0</td>\n",
       "      <td>0.0</td>\n",
       "    </tr>\n",
       "    <tr>\n",
       "      <th>7262</th>\n",
       "      <td>14073</td>\n",
       "      <td>4.867812</td>\n",
       "      <td>-4.248309</td>\n",
       "      <td>6.460938</td>\n",
       "      <td>-0.717546</td>\n",
       "      <td>X</td>\n",
       "      <td>1.0</td>\n",
       "      <td>0.0</td>\n",
       "      <td>0.0</td>\n",
       "    </tr>\n",
       "    <tr>\n",
       "      <th>7263</th>\n",
       "      <td>26467</td>\n",
       "      <td>2.961200</td>\n",
       "      <td>4.701584</td>\n",
       "      <td>5.556401</td>\n",
       "      <td>1.008731</td>\n",
       "      <td>X</td>\n",
       "      <td>1.0</td>\n",
       "      <td>0.0</td>\n",
       "      <td>0.0</td>\n",
       "    </tr>\n",
       "    <tr>\n",
       "      <th>7264</th>\n",
       "      <td>10876</td>\n",
       "      <td>-0.425876</td>\n",
       "      <td>0.473031</td>\n",
       "      <td>0.636497</td>\n",
       "      <td>2.303784</td>\n",
       "      <td>X</td>\n",
       "      <td>1.0</td>\n",
       "      <td>0.0</td>\n",
       "      <td>0.0</td>\n",
       "    </tr>\n",
       "  </tbody>\n",
       "</table>\n",
       "</div>"
      ],
      "text/plain": [
       "         id         x         y         r     angle class  X_score  O_score  \\\n",
       "7260  20046 -0.974254  0.457693  1.076408  2.702405     O      0.0      1.0   \n",
       "7261   6148  0.969538  0.566458  1.122889  0.528763     X      1.0      0.0   \n",
       "7262  14073  4.867812 -4.248309  6.460938 -0.717546     X      1.0      0.0   \n",
       "7263  26467  2.961200  4.701584  5.556401  1.008731     X      1.0      0.0   \n",
       "7264  10876 -0.425876  0.473031  0.636497  2.303784     X      1.0      0.0   \n",
       "\n",
       "      B_score  \n",
       "7260      0.0  \n",
       "7261      0.0  \n",
       "7262      0.0  \n",
       "7263      0.0  \n",
       "7264      0.0  "
      ]
     },
     "execution_count": 4,
     "metadata": {},
     "output_type": "execute_result"
    }
   ],
   "source": [
    "#adjust balance of training data so that X class is 2x more abundant that O,B\n",
    "N_dots = 26700\n",
    "X_boost = 2.0\n",
    "import numpy as np\n",
    "rn_state = np.random.RandomState(seed=rn_seed)\n",
    "from helper_fns import *\n",
    "df = make_xo_df(N_dots, initial_id, x_half_width, radius, box_half_width, jitter)\n",
    "df = rebalance_df(df, X_boost=X_boost)\n",
    "print df.groupby('class')['id'].count()\n",
    "train = df\n",
    "train.tail(5)"
   ]
  },
  {
   "cell_type": "code",
   "execution_count": 5,
   "metadata": {},
   "outputs": [
    {
     "name": "stdout",
     "output_type": "stream",
     "text": [
      "x_train.shape =  (7265, 2)\n",
      "y_train.shape =  (7265, 3)\n"
     ]
    },
    {
     "data": {
      "text/plain": [
       "array([[ 6.22306129,  5.82059997],\n",
       "       [-0.59505613,  0.35619103],\n",
       "       [-2.14182136, -1.41587065],\n",
       "       ..., \n",
       "       [ 4.86781232, -4.24830866],\n",
       "       [ 2.96120038,  4.70158371],\n",
       "       [-0.4258758 ,  0.47303123]])"
      ]
     },
     "execution_count": 5,
     "metadata": {},
     "output_type": "execute_result"
    }
   ],
   "source": [
    "#select x-features and y = target variables = class-scores\n",
    "x_cols = ['x', 'y']\n",
    "y_cols = ['O_score', 'X_score', 'B_score']\n",
    "x_train = train[x_cols].values\n",
    "y_train = train[y_cols].values\n",
    "print 'x_train.shape = ', x_train.shape\n",
    "print 'y_train.shape = ', y_train.shape\n",
    "x_train"
   ]
  },
  {
   "cell_type": "code",
   "execution_count": 6,
   "metadata": {},
   "outputs": [
    {
     "name": "stdout",
     "output_type": "stream",
     "text": [
      "class\n",
      "B    1766\n",
      "O    1766\n",
      "X    3532\n",
      "Name: id, dtype: int64\n",
      "x_val.shape =  (7064, 2)\n",
      "y_val.shape =  (7064, 3)\n"
     ]
    },
    {
     "data": {
      "text/plain": [
       "array([[ 1.,  0.,  0.],\n",
       "       [ 0.,  1.,  0.],\n",
       "       [ 0.,  1.,  0.],\n",
       "       ..., \n",
       "       [ 0.,  0.,  1.],\n",
       "       [ 1.,  0.,  0.],\n",
       "       [ 0.,  1.,  0.]])"
      ]
     },
     "execution_count": 6,
     "metadata": {},
     "output_type": "execute_result"
    }
   ],
   "source": [
    "#generate rebalanced validation data\n",
    "df = make_xo_df(N_dots, initial_id, x_half_width, radius, box_half_width, jitter)\n",
    "df = rebalance_df(df, X_boost=X_boost)\n",
    "print df.groupby('class')['id'].count()\n",
    "x_val = df[x_cols].values\n",
    "y_val = df[y_cols].values\n",
    "print 'x_val.shape = ', x_val.shape\n",
    "print 'y_val.shape = ', y_val.shape\n",
    "y_val"
   ]
  },
  {
   "cell_type": "code",
   "execution_count": 7,
   "metadata": {
    "scrolled": false
   },
   "outputs": [],
   "source": [
    "#helper function that builds a cnet classifier\n",
    "def cnet_classifier(N_input, N_2d, kernel_size, N_output, output_activation_fn):\n",
    "    from keras.models import Sequential\n",
    "    from keras.layers import Dense, Dropout, BatchNormalization, Activation, Reshape, Conv2D, MaxPooling2D, Flatten\n",
    "    model = Sequential()\n",
    "    #input layer\n",
    "    N = N_2d**2\n",
    "    input_shape = (N_input,)\n",
    "    layer = Dense(N, activation='elu', input_shape=input_shape)\n",
    "    model.add(layer)\n",
    "    #reshape input layer\n",
    "    output_shape = (N_2d, N_2d, 1)\n",
    "    layer = Reshape(output_shape)\n",
    "    model.add(layer)\n",
    "    #add Conv2D + MaxPooling2D layers\n",
    "    layer = Conv2D(1, kernel_size=kernel_size, padding='same', activation='elu')\n",
    "    model.add(layer)\n",
    "    pool_size = kernel_size/2\n",
    "    layer = MaxPooling2D(pool_size=pool_size, strides=pool_size)\n",
    "    model.add(layer)\n",
    "    #add Conv2D + MaxPooling2D layers\n",
    "    layer = Conv2D(1, kernel_size=kernel_size, padding='same', activation='elu')\n",
    "    model.add(layer)\n",
    "    layer = MaxPooling2D(pool_size=pool_size, strides=pool_size)\n",
    "    model.add(layer)\n",
    "    #flatten + output layer\n",
    "    layer = Flatten()\n",
    "    model.add(layer)\n",
    "    model.add(Dense(N_output, activation=output_activation_fn))\n",
    "    #set loss function\n",
    "    if (output_activation_fn == 'linear'):\n",
    "        loss_fn = 'mean_squared_error'\n",
    "    if (output_activation_fn == 'sigmoid'):\n",
    "        loss_fn = 'categorical_crossentropy'\n",
    "    model.compile(loss=loss_fn, optimizer='adam')\n",
    "    return model"
   ]
  },
  {
   "cell_type": "code",
   "execution_count": 8,
   "metadata": {},
   "outputs": [
    {
     "name": "stdout",
     "output_type": "stream",
     "text": [
      "N_input =  2\n",
      "N_2d =  100\n",
      "kernel_size =  6\n",
      "output_activation_fn =  linear\n"
     ]
    },
    {
     "name": "stderr",
     "output_type": "stream",
     "text": [
      "Using TensorFlow backend.\n"
     ]
    },
    {
     "name": "stdout",
     "output_type": "stream",
     "text": [
      "_________________________________________________________________\n",
      "Layer (type)                 Output Shape              Param #   \n",
      "=================================================================\n",
      "dense_1 (Dense)              (None, 10000)             30000     \n",
      "_________________________________________________________________\n",
      "reshape_1 (Reshape)          (None, 100, 100, 1)       0         \n",
      "_________________________________________________________________\n",
      "conv2d_1 (Conv2D)            (None, 100, 100, 1)       37        \n",
      "_________________________________________________________________\n",
      "max_pooling2d_1 (MaxPooling2 (None, 33, 33, 1)         0         \n",
      "_________________________________________________________________\n",
      "conv2d_2 (Conv2D)            (None, 33, 33, 1)         37        \n",
      "_________________________________________________________________\n",
      "max_pooling2d_2 (MaxPooling2 (None, 11, 11, 1)         0         \n",
      "_________________________________________________________________\n",
      "flatten_1 (Flatten)          (None, 121)               0         \n",
      "_________________________________________________________________\n",
      "dense_2 (Dense)              (None, 3)                 366       \n",
      "=================================================================\n",
      "Total params: 30,440\n",
      "Trainable params: 30,440\n",
      "Non-trainable params: 0\n",
      "_________________________________________________________________\n"
     ]
    }
   ],
   "source": [
    "#build CNET classification model \n",
    "N_input = len(x_cols)\n",
    "N_2d = 100\n",
    "kernel_size = 6\n",
    "N_output = len(y_cols)\n",
    "output_activation_fn = 'linear'\n",
    "print 'N_input = ', N_input\n",
    "print 'N_2d = ', N_2d\n",
    "print 'kernel_size = ', kernel_size\n",
    "print 'output_activation_fn = ', output_activation_fn\n",
    "model = cnet_classifier(N_input, N_2d, kernel_size, N_output, output_activation_fn)\n",
    "model.summary()"
   ]
  },
  {
   "cell_type": "code",
   "execution_count": null,
   "metadata": {
    "scrolled": false
   },
   "outputs": [
    {
     "name": "stdout",
     "output_type": "stream",
     "text": [
      "Train on 7265 samples, validate on 7064 samples\n",
      "Epoch 1/15\n",
      "7265/7265 [==============================] - 39s 5ms/step - loss: 0.2736 - val_loss: 0.2040\n",
      "Epoch 2/15\n",
      "7265/7265 [==============================] - 40s 5ms/step - loss: 0.2003 - val_loss: 0.1861\n",
      "Epoch 3/15\n",
      "7265/7265 [==============================] - 40s 5ms/step - loss: 0.1832 - val_loss: 0.1724\n",
      "Epoch 4/15\n",
      "7265/7265 [==============================] - 40s 5ms/step - loss: 0.1724 - val_loss: 0.1618\n",
      "Epoch 5/15\n",
      "7265/7265 [==============================] - 40s 5ms/step - loss: 0.1620 - val_loss: 0.1539\n",
      "Epoch 6/15\n",
      "7265/7265 [==============================] - 45s 6ms/step - loss: 0.1545 - val_loss: 0.1475\n",
      "Epoch 7/15\n",
      "7265/7265 [==============================] - 45s 6ms/step - loss: 0.1492 - val_loss: 0.1439\n",
      "Epoch 8/15\n",
      "7265/7265 [==============================] - 45s 6ms/step - loss: 0.1463 - val_loss: 0.1419\n",
      "Epoch 9/15\n",
      "7265/7265 [==============================] - 42s 6ms/step - loss: 0.1451 - val_loss: 0.1412\n",
      "Epoch 10/15\n",
      "7265/7265 [==============================] - 44s 6ms/step - loss: 0.1445 - val_loss: 0.1405\n",
      "Epoch 11/15\n",
      "7265/7265 [==============================] - 44s 6ms/step - loss: 0.1435 - val_loss: 0.1400\n",
      "Epoch 12/15\n",
      "7265/7265 [==============================] - 50s 7ms/step - loss: 0.1428 - val_loss: 0.1393\n",
      "Epoch 13/15\n",
      "6000/7265 [=======================>......] - ETA: 5s - loss: 0.1424 "
     ]
    }
   ],
   "source": [
    "#train model...is slow on cpu...this runs 20x faster on gpu!\n",
    "N_training_epochs = 15\n",
    "batch_size = 2000\n",
    "fit_history = model.fit(x_train, y_train, epochs=N_training_epochs, batch_size=batch_size, \n",
    "    verbose=1, validation_data=(x_val, y_val))"
   ]
  },
  {
   "cell_type": "code",
   "execution_count": null,
   "metadata": {},
   "outputs": [],
   "source": [
    "#prep plots\n",
    "%matplotlib inline\n",
    "import matplotlib.pyplot as plt\n",
    "from matplotlib import rcParams\n",
    "import seaborn as sns\n",
    "sns.set(font_scale=1.5, font='DejaVu Sans')"
   ]
  },
  {
   "cell_type": "code",
   "execution_count": null,
   "metadata": {},
   "outputs": [],
   "source": [
    "#plot accuracy vs training epoch\n",
    "fig, ax = plt.subplots(1,1, figsize=(15, 6))\n",
    "xp = fit_history.epoch\n",
    "yp = fit_history.history['loss']\n",
    "ax.plot(xp, yp, label='training sample')\n",
    "yp = fit_history.history['val_loss']\n",
    "ax.plot(xp, yp, label='validation sample')\n",
    "ax.set_title('classifier loss versus training epoch')\n",
    "ax.set_ylabel('loss')\n",
    "ax.set_xlabel('training epoch')\n",
    "ax.legend(loc='lower left')\n",
    "#ax.set_ylim(0.95*np.min(yp), 1.05*np.max(yp[1:]))\n",
    "plt.savefig('figs/cnet_loss.png')\n",
    "print 'final validation loss = ', yp[-1]"
   ]
  },
  {
   "cell_type": "code",
   "execution_count": null,
   "metadata": {},
   "outputs": [],
   "source": [
    "#generate class predictions on testing X-O data\n",
    "N_dots = 20000\n",
    "df = make_xo_df(N_dots, initial_id, x_half_width, radius, box_half_width, jitter)\n",
    "x = df[x_cols].values\n",
    "y = df[y_cols].values\n",
    "y_pred = model.predict(x)\n",
    "for idx in range(len(y_cols)):\n",
    "    y_col = y_cols[idx]\n",
    "    df[y_col] = y_pred[:, idx]\n",
    "idx = (df.O_score > df.X_score) & (df.O_score > df.B_score)\n",
    "df.loc[idx, 'class_pred'] = 'O'\n",
    "idx = (df.X_score > df.B_score) & (df.X_score > df.O_score)\n",
    "df.loc[idx, 'class_pred'] = 'X'\n",
    "idx = (df.B_score > df.O_score) & (df.B_score > df.X_score)\n",
    "df.loc[idx, 'class_pred'] = 'B'\n",
    "df.head(5)"
   ]
  },
  {
   "cell_type": "code",
   "execution_count": null,
   "metadata": {},
   "outputs": [],
   "source": [
    "#scatterplot showing model's predicted decision boundaries\n",
    "xy_rng = (-6.5, 6.5)\n",
    "sz = 30\n",
    "f, ax = plt.subplots(figsize=(10,10))\n",
    "lbl = 'B'\n",
    "idx = (df['class_pred'] == lbl)\n",
    "xp = df[idx].x\n",
    "yp = df[idx].y\n",
    "p = sns.regplot(xp, yp, ax=ax, fit_reg=False, scatter_kws={'alpha':0.6, 's': sz}, marker='s', label=lbl)\n",
    "lbl = 'X'\n",
    "idx = (df['class_pred'] == lbl)\n",
    "xp = df[idx].x\n",
    "yp = df[idx].y\n",
    "p = sns.regplot(xp, yp, ax=ax, fit_reg=False, scatter_kws={'alpha':0.6, 's': sz}, marker='s', label=lbl)\n",
    "lbl = 'O'\n",
    "idx = (df['class_pred'] == lbl)\n",
    "xp = df[idx].x\n",
    "yp = df[idx].y\n",
    "p = sns.regplot(xp, yp, ax=ax, fit_reg=False, scatter_kws={'alpha':0.6, 's': sz}, marker='s', label=lbl)\n",
    "p = ax.set_title('CNET-inferred decision boundary')\n",
    "p = ax.set_xlabel('x')\n",
    "p = ax.set_ylabel('y')\n",
    "p = ax.set_xlim(xy_rng)\n",
    "p = ax.set_ylim(xy_rng)\n",
    "plt.savefig('figs/cnet_decision_boundary.png')"
   ]
  },
  {
   "cell_type": "code",
   "execution_count": null,
   "metadata": {},
   "outputs": [],
   "source": [
    "#model accuracy\n",
    "idx = (df['class'] == df['class_pred'])\n",
    "accuracy = idx.sum()*1.0/len(idx)\n",
    "print 'model accuracy = ', accuracy"
   ]
  },
  {
   "cell_type": "code",
   "execution_count": null,
   "metadata": {},
   "outputs": [],
   "source": [
    "#save model\n",
    "model.save('cnet_model.h5') "
   ]
  },
  {
   "cell_type": "code",
   "execution_count": null,
   "metadata": {},
   "outputs": [],
   "source": [
    "#done\n",
    "time_stop = tm.time()\n",
    "print 'execution time (minutes) = ', (time_stop - time_start)/60.0"
   ]
  },
  {
   "cell_type": "code",
   "execution_count": null,
   "metadata": {},
   "outputs": [],
   "source": []
  }
 ],
 "metadata": {
  "hide_input": false,
  "kernelspec": {
   "display_name": "Python 2",
   "language": "python",
   "name": "python2"
  },
  "language_info": {
   "codemirror_mode": {
    "name": "ipython",
    "version": 2
   },
   "file_extension": ".py",
   "mimetype": "text/x-python",
   "name": "python",
   "nbconvert_exporter": "python",
   "pygments_lexer": "ipython2",
   "version": "2.7.15"
  }
 },
 "nbformat": 4,
 "nbformat_minor": 2
}
