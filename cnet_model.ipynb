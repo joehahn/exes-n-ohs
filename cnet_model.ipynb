{
 "cells": [
  {
   "cell_type": "code",
   "execution_count": 1,
   "metadata": {},
   "outputs": [],
   "source": [
    "#cnet_model.ipynb \n",
    "# \n",
    "#by Joe Hahn\n",
    "#joe.hahn@oracle.com\n",
    "#30 July 2018\n",
    "#\n",
    "#train a cnet layer on the XO dataset"
   ]
  },
  {
   "cell_type": "code",
   "execution_count": 2,
   "metadata": {},
   "outputs": [],
   "source": [
    "#set system parameters\n",
    "x_half_width = 0.5\n",
    "radius = 3.5\n",
    "box_half_width = 7.1\n",
    "jitter = 1.0\n",
    "rn_seed = 15\n",
    "initial_id = 0"
   ]
  },
  {
   "cell_type": "code",
   "execution_count": 3,
   "metadata": {},
   "outputs": [],
   "source": [
    "#start time\n",
    "import time as tm\n",
    "time_start = tm.time()"
   ]
  },
  {
   "cell_type": "code",
   "execution_count": 4,
   "metadata": {},
   "outputs": [
    {
     "name": "stdout",
     "output_type": "stream",
     "text": [
      "class\n",
      "B    3344\n",
      "O    3344\n",
      "X    3344\n",
      "Name: id, dtype: int64\n"
     ]
    },
    {
     "data": {
      "text/html": [
       "<div>\n",
       "<style scoped>\n",
       "    .dataframe tbody tr th:only-of-type {\n",
       "        vertical-align: middle;\n",
       "    }\n",
       "\n",
       "    .dataframe tbody tr th {\n",
       "        vertical-align: top;\n",
       "    }\n",
       "\n",
       "    .dataframe thead th {\n",
       "        text-align: right;\n",
       "    }\n",
       "</style>\n",
       "<table border=\"1\" class=\"dataframe\">\n",
       "  <thead>\n",
       "    <tr style=\"text-align: right;\">\n",
       "      <th></th>\n",
       "      <th>id</th>\n",
       "      <th>x</th>\n",
       "      <th>y</th>\n",
       "      <th>r</th>\n",
       "      <th>angle</th>\n",
       "      <th>class</th>\n",
       "      <th>X_score</th>\n",
       "      <th>O_score</th>\n",
       "      <th>B_score</th>\n",
       "    </tr>\n",
       "  </thead>\n",
       "  <tbody>\n",
       "    <tr>\n",
       "      <th>10027</th>\n",
       "      <td>3953</td>\n",
       "      <td>-6.050939</td>\n",
       "      <td>-2.436575</td>\n",
       "      <td>6.523094</td>\n",
       "      <td>-2.758780</td>\n",
       "      <td>B</td>\n",
       "      <td>0.0</td>\n",
       "      <td>0.0</td>\n",
       "      <td>1.0</td>\n",
       "    </tr>\n",
       "    <tr>\n",
       "      <th>10028</th>\n",
       "      <td>863</td>\n",
       "      <td>1.994081</td>\n",
       "      <td>2.602057</td>\n",
       "      <td>3.278271</td>\n",
       "      <td>0.916914</td>\n",
       "      <td>O</td>\n",
       "      <td>0.0</td>\n",
       "      <td>1.0</td>\n",
       "      <td>0.0</td>\n",
       "    </tr>\n",
       "    <tr>\n",
       "      <th>10029</th>\n",
       "      <td>8564</td>\n",
       "      <td>1.660073</td>\n",
       "      <td>-0.244175</td>\n",
       "      <td>1.677934</td>\n",
       "      <td>-0.146040</td>\n",
       "      <td>O</td>\n",
       "      <td>0.0</td>\n",
       "      <td>1.0</td>\n",
       "      <td>0.0</td>\n",
       "    </tr>\n",
       "    <tr>\n",
       "      <th>10030</th>\n",
       "      <td>19766</td>\n",
       "      <td>0.055299</td>\n",
       "      <td>1.422387</td>\n",
       "      <td>1.423462</td>\n",
       "      <td>1.531938</td>\n",
       "      <td>X</td>\n",
       "      <td>1.0</td>\n",
       "      <td>0.0</td>\n",
       "      <td>0.0</td>\n",
       "    </tr>\n",
       "    <tr>\n",
       "      <th>10031</th>\n",
       "      <td>4825</td>\n",
       "      <td>3.603196</td>\n",
       "      <td>-4.416232</td>\n",
       "      <td>5.699661</td>\n",
       "      <td>-0.886436</td>\n",
       "      <td>X</td>\n",
       "      <td>1.0</td>\n",
       "      <td>0.0</td>\n",
       "      <td>0.0</td>\n",
       "    </tr>\n",
       "  </tbody>\n",
       "</table>\n",
       "</div>"
      ],
      "text/plain": [
       "          id         x         y         r     angle class  X_score  O_score  \\\n",
       "10027   3953 -6.050939 -2.436575  6.523094 -2.758780     B      0.0      0.0   \n",
       "10028    863  1.994081  2.602057  3.278271  0.916914     O      0.0      1.0   \n",
       "10029   8564  1.660073 -0.244175  1.677934 -0.146040     O      0.0      1.0   \n",
       "10030  19766  0.055299  1.422387  1.423462  1.531938     X      1.0      0.0   \n",
       "10031   4825  3.603196 -4.416232  5.699661 -0.886436     X      1.0      0.0   \n",
       "\n",
       "       B_score  \n",
       "10027      1.0  \n",
       "10028      0.0  \n",
       "10029      0.0  \n",
       "10030      0.0  \n",
       "10031      0.0  "
      ]
     },
     "execution_count": 4,
     "metadata": {},
     "output_type": "execute_result"
    }
   ],
   "source": [
    "#generate balanced training data\n",
    "N_dots = 26700\n",
    "import numpy as np\n",
    "rn_state = np.random.RandomState(seed=rn_seed)\n",
    "from helper_fns import *\n",
    "df = make_xo_df(N_dots, initial_id, x_half_width, radius, box_half_width, jitter)\n",
    "df = rebalance_df(df)\n",
    "print df.groupby('class')['id'].count()\n",
    "train = df\n",
    "train.tail(5)"
   ]
  },
  {
   "cell_type": "code",
   "execution_count": 5,
   "metadata": {},
   "outputs": [
    {
     "name": "stdout",
     "output_type": "stream",
     "text": [
      "x.shape =  (10032, 2)\n",
      "y.shape =  (10032, 3)\n"
     ]
    },
    {
     "data": {
      "text/plain": [
       "array([[ 0.00875399, -1.36284745],\n",
       "       [ 0.76575749,  1.32003586],\n",
       "       [-2.59736693, -2.92864857],\n",
       "       ..., \n",
       "       [ 1.66007301, -0.24417544],\n",
       "       [ 0.05529941,  1.42238712],\n",
       "       [ 3.6031964 , -4.41623226]])"
      ]
     },
     "execution_count": 5,
     "metadata": {},
     "output_type": "execute_result"
    }
   ],
   "source": [
    "#select x-features and y = target variables = class-scores\n",
    "x_cols = ['x', 'y']\n",
    "y_cols = ['O_score', 'X_score', 'B_score']\n",
    "x = train[x_cols].values\n",
    "y = train[y_cols].values\n",
    "print 'x.shape = ', x.shape\n",
    "print 'y.shape = ', y.shape\n",
    "x"
   ]
  },
  {
   "cell_type": "code",
   "execution_count": 6,
   "metadata": {},
   "outputs": [],
   "source": [
    "#prep plots\n",
    "%matplotlib inline\n",
    "import matplotlib.pyplot as plt\n",
    "from matplotlib import rcParams\n",
    "import seaborn as sns\n",
    "sns.set(font_scale=1.5, font='DejaVu Sans')"
   ]
  },
  {
   "cell_type": "code",
   "execution_count": 7,
   "metadata": {},
   "outputs": [
    {
     "name": "stdout",
     "output_type": "stream",
     "text": [
      "execution time (minutes) =  0.024538731575\n"
     ]
    }
   ],
   "source": [
    "#done\n",
    "time_stop = tm.time()\n",
    "print 'execution time (minutes) = ', (time_stop - time_start)/60.0"
   ]
  },
  {
   "cell_type": "code",
   "execution_count": null,
   "metadata": {},
   "outputs": [],
   "source": []
  }
 ],
 "metadata": {
  "kernelspec": {
   "display_name": "Python 2",
   "language": "python",
   "name": "python2"
  },
  "language_info": {
   "codemirror_mode": {
    "name": "ipython",
    "version": 2
   },
   "file_extension": ".py",
   "mimetype": "text/x-python",
   "name": "python",
   "nbconvert_exporter": "python",
   "pygments_lexer": "ipython2",
   "version": "2.7.15"
  }
 },
 "nbformat": 4,
 "nbformat_minor": 2
}
