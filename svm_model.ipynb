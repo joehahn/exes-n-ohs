{
 "cells": [
  {
   "cell_type": "code",
   "execution_count": 1,
   "metadata": {},
   "outputs": [],
   "source": [
    "#svm_model.ipynb\n",
    "#\n",
    "#by Joe Hahn\n",
    "#joe.hahn@oracle.com\n",
    "#5 July 2018\n",
    "#\n",
    "#train svm model"
   ]
  },
  {
   "cell_type": "code",
   "execution_count": 2,
   "metadata": {},
   "outputs": [],
   "source": [
    "#set system parameters\n",
    "N_dots = 6000\n",
    "x_half_width = 0.5\n",
    "radius = 3.5\n",
    "box_half_width = 7.1\n",
    "jitter = 1.0\n",
    "rn_seed = 13\n",
    "initial_id = 0"
   ]
  },
  {
   "cell_type": "code",
   "execution_count": 3,
   "metadata": {},
   "outputs": [
    {
     "data": {
      "text/html": [
       "<div>\n",
       "<style scoped>\n",
       "    .dataframe tbody tr th:only-of-type {\n",
       "        vertical-align: middle;\n",
       "    }\n",
       "\n",
       "    .dataframe tbody tr th {\n",
       "        vertical-align: top;\n",
       "    }\n",
       "\n",
       "    .dataframe thead th {\n",
       "        text-align: right;\n",
       "    }\n",
       "</style>\n",
       "<table border=\"1\" class=\"dataframe\">\n",
       "  <thead>\n",
       "    <tr style=\"text-align: right;\">\n",
       "      <th></th>\n",
       "      <th>id</th>\n",
       "      <th>x</th>\n",
       "      <th>y</th>\n",
       "      <th>r</th>\n",
       "      <th>angle</th>\n",
       "      <th>class</th>\n",
       "      <th>X_score</th>\n",
       "      <th>O_score</th>\n",
       "      <th>B_score</th>\n",
       "    </tr>\n",
       "    <tr>\n",
       "      <th>record</th>\n",
       "      <th></th>\n",
       "      <th></th>\n",
       "      <th></th>\n",
       "      <th></th>\n",
       "      <th></th>\n",
       "      <th></th>\n",
       "      <th></th>\n",
       "      <th></th>\n",
       "      <th></th>\n",
       "    </tr>\n",
       "  </thead>\n",
       "  <tbody>\n",
       "    <tr>\n",
       "      <th>5995</th>\n",
       "      <td>5995</td>\n",
       "      <td>-1.682713</td>\n",
       "      <td>-0.567497</td>\n",
       "      <td>1.775831</td>\n",
       "      <td>-2.816320</td>\n",
       "      <td>O</td>\n",
       "      <td>0.0</td>\n",
       "      <td>1.0</td>\n",
       "      <td>0.0</td>\n",
       "    </tr>\n",
       "    <tr>\n",
       "      <th>5996</th>\n",
       "      <td>5996</td>\n",
       "      <td>-4.474410</td>\n",
       "      <td>4.172532</td>\n",
       "      <td>6.118036</td>\n",
       "      <td>2.391092</td>\n",
       "      <td>B</td>\n",
       "      <td>0.0</td>\n",
       "      <td>0.0</td>\n",
       "      <td>1.0</td>\n",
       "    </tr>\n",
       "    <tr>\n",
       "      <th>5997</th>\n",
       "      <td>5997</td>\n",
       "      <td>4.430881</td>\n",
       "      <td>3.801919</td>\n",
       "      <td>5.838432</td>\n",
       "      <td>0.709149</td>\n",
       "      <td>B</td>\n",
       "      <td>0.0</td>\n",
       "      <td>0.0</td>\n",
       "      <td>1.0</td>\n",
       "    </tr>\n",
       "    <tr>\n",
       "      <th>5998</th>\n",
       "      <td>5998</td>\n",
       "      <td>2.202746</td>\n",
       "      <td>7.988680</td>\n",
       "      <td>8.286802</td>\n",
       "      <td>1.301748</td>\n",
       "      <td>B</td>\n",
       "      <td>0.0</td>\n",
       "      <td>0.0</td>\n",
       "      <td>1.0</td>\n",
       "    </tr>\n",
       "    <tr>\n",
       "      <th>5999</th>\n",
       "      <td>5999</td>\n",
       "      <td>1.956030</td>\n",
       "      <td>1.377991</td>\n",
       "      <td>2.392679</td>\n",
       "      <td>0.613729</td>\n",
       "      <td>X</td>\n",
       "      <td>1.0</td>\n",
       "      <td>0.0</td>\n",
       "      <td>0.0</td>\n",
       "    </tr>\n",
       "  </tbody>\n",
       "</table>\n",
       "</div>"
      ],
      "text/plain": [
       "          id         x         y         r     angle class  X_score  O_score  \\\n",
       "record                                                                         \n",
       "5995    5995 -1.682713 -0.567497  1.775831 -2.816320     O      0.0      1.0   \n",
       "5996    5996 -4.474410  4.172532  6.118036  2.391092     B      0.0      0.0   \n",
       "5997    5997  4.430881  3.801919  5.838432  0.709149     B      0.0      0.0   \n",
       "5998    5998  2.202746  7.988680  8.286802  1.301748     B      0.0      0.0   \n",
       "5999    5999  1.956030  1.377991  2.392679  0.613729     X      1.0      0.0   \n",
       "\n",
       "        B_score  \n",
       "record           \n",
       "5995        0.0  \n",
       "5996        1.0  \n",
       "5997        1.0  \n",
       "5998        1.0  \n",
       "5999        0.0  "
      ]
     },
     "execution_count": 3,
     "metadata": {},
     "output_type": "execute_result"
    }
   ],
   "source": [
    "#generate training data\n",
    "import numpy as np\n",
    "rn_state = np.random.RandomState(seed=rn_seed)\n",
    "from helper_fns import *\n",
    "train = make_xo_df(N_dots, initial_id, x_half_width, radius, box_half_width, jitter)\n",
    "train.tail()"
   ]
  },
  {
   "cell_type": "code",
   "execution_count": 4,
   "metadata": {},
   "outputs": [],
   "source": [
    "#prep plots\n",
    "%matplotlib inline\n",
    "import matplotlib.pyplot as plt\n",
    "from matplotlib import rcParams\n",
    "import seaborn as sns\n",
    "sns.set(font_scale=1.5, font='DejaVu Sans')"
   ]
  },
  {
   "cell_type": "code",
   "execution_count": 5,
   "metadata": {},
   "outputs": [
    {
     "data": {
      "image/png": "[encoded data removed]",
      "text/plain": [
       "<matplotlib.figure.Figure at 0x7fc1eb7ba510>"
      ]
     },
     "metadata": {},
     "output_type": "display_data"
    }
   ],
   "source": [
    "#scatterplot of a sample of noisy training data\n",
    "N_plot = 6000#20000\n",
    "df = train.sample(N_plot)\n",
    "xy_rng = (-5, 5)\n",
    "sz = 30\n",
    "f, ax = plt.subplots(figsize=(10,10))\n",
    "lbl = 'B'\n",
    "idx = (df['class'] == lbl)\n",
    "xp = df[idx].x\n",
    "yp = df[idx].y\n",
    "p = sns.regplot(xp, yp, ax=ax, fit_reg=False, scatter_kws={'alpha':0.6, 's': sz}, marker='s', label=lbl)\n",
    "lbl = 'X'\n",
    "idx = (df['class'] == lbl)\n",
    "xp = df[idx].x\n",
    "yp = df[idx].y\n",
    "p = sns.regplot(xp, yp, ax=ax, fit_reg=False, scatter_kws={'alpha':0.6, 's': sz}, marker='s', label=lbl)\n",
    "lbl = 'O'\n",
    "idx = (df['class'] == lbl)\n",
    "xp = df[idx].x\n",
    "yp = df[idx].y\n",
    "p = sns.regplot(xp, yp, ax=ax, fit_reg=False, scatter_kws={'alpha':0.6, 's': sz}, marker='s', label=lbl)\n",
    "p = ax.set_title('sample of noisy X-O data')\n",
    "p = ax.set_xlabel('x')\n",
    "p = ax.set_ylabel('y')\n",
    "p = ax.set_xlim(xy_rng)\n",
    "p = ax.set_ylim(xy_rng)\n",
    "plt.savefig('figs/training_data.png')"
   ]
  },
  {
   "cell_type": "code",
   "execution_count": 6,
   "metadata": {},
   "outputs": [
    {
     "data": {
      "text/html": [
       "<div>\n",
       "<style scoped>\n",
       "    .dataframe tbody tr th:only-of-type {\n",
       "        vertical-align: middle;\n",
       "    }\n",
       "\n",
       "    .dataframe tbody tr th {\n",
       "        vertical-align: top;\n",
       "    }\n",
       "\n",
       "    .dataframe thead th {\n",
       "        text-align: right;\n",
       "    }\n",
       "</style>\n",
       "<table border=\"1\" class=\"dataframe\">\n",
       "  <thead>\n",
       "    <tr style=\"text-align: right;\">\n",
       "      <th></th>\n",
       "      <th>id</th>\n",
       "      <th>relative_num</th>\n",
       "    </tr>\n",
       "    <tr>\n",
       "      <th>class</th>\n",
       "      <th></th>\n",
       "      <th></th>\n",
       "    </tr>\n",
       "  </thead>\n",
       "  <tbody>\n",
       "    <tr>\n",
       "      <th>X</th>\n",
       "      <td>765</td>\n",
       "      <td>1.000000</td>\n",
       "    </tr>\n",
       "    <tr>\n",
       "      <th>O</th>\n",
       "      <td>780</td>\n",
       "      <td>1.019608</td>\n",
       "    </tr>\n",
       "    <tr>\n",
       "      <th>B</th>\n",
       "      <td>4455</td>\n",
       "      <td>5.823529</td>\n",
       "    </tr>\n",
       "  </tbody>\n",
       "</table>\n",
       "</div>"
      ],
      "text/plain": [
       "         id  relative_num\n",
       "class                    \n",
       "X       765      1.000000\n",
       "O       780      1.019608\n",
       "B      4455      5.823529"
      ]
     },
     "execution_count": 6,
     "metadata": {},
     "output_type": "execute_result"
    }
   ],
   "source": [
    "#check class balance\n",
    "cols = ['id', 'class']\n",
    "N = train[cols].groupby('class').count().sort_values('id')\n",
    "N['relative_num'] = N*1.0/N.min()\n",
    "N"
   ]
  },
  {
   "cell_type": "code",
   "execution_count": 7,
   "metadata": {},
   "outputs": [],
   "source": [
    "#get features x and target variable y\n",
    "x_cols = ['x', 'y']\n",
    "y_col = 'class'\n",
    "x = df[x_cols]\n",
    "y = df[y_col]"
   ]
  },
  {
   "cell_type": "code",
   "execution_count": 8,
   "metadata": {},
   "outputs": [],
   "source": [
    "#prep grid-search across hyperparameters\n",
    "from sklearn.svm import SVC\n",
    "model = SVC(kernel='rbf')\n",
    "from sklearn.model_selection import GridSearchCV\n",
    "Cs = [1.0e-2, 1.0, 1.0e2]\n",
    "gammas = [1.0e-2, 1.0, 1.0e2]\n",
    "hperparameters = {'C':Cs, 'gamma':gammas}\n",
    "#fit grid of models to training data\n",
    "models_fits = GridSearchCV(model, hperparameters, n_jobs=1).fit(x, y)"
   ]
  },
  {
   "cell_type": "code",
   "execution_count": 9,
   "metadata": {},
   "outputs": [
    {
     "name": "stderr",
     "output_type": "stream",
     "text": [
      "/usr/local/lib/python2.7/dist-packages/sklearn/utils/deprecation.py:122: FutureWarning: You are accessing a training score ('mean_train_score'), which will not be available by default any more in 0.21. If you need training scores, please set return_train_score=True\n",
      "  warnings.warn(*warn_args, **warn_kwargs)\n",
      "/usr/local/lib/python2.7/dist-packages/sklearn/utils/deprecation.py:122: FutureWarning: You are accessing a training score ('split0_train_score'), which will not be available by default any more in 0.21. If you need training scores, please set return_train_score=True\n",
      "  warnings.warn(*warn_args, **warn_kwargs)\n",
      "/usr/local/lib/python2.7/dist-packages/sklearn/utils/deprecation.py:122: FutureWarning: You are accessing a training score ('split1_train_score'), which will not be available by default any more in 0.21. If you need training scores, please set return_train_score=True\n",
      "  warnings.warn(*warn_args, **warn_kwargs)\n",
      "/usr/local/lib/python2.7/dist-packages/sklearn/utils/deprecation.py:122: FutureWarning: You are accessing a training score ('split2_train_score'), which will not be available by default any more in 0.21. If you need training scores, please set return_train_score=True\n",
      "  warnings.warn(*warn_args, **warn_kwargs)\n",
      "/usr/local/lib/python2.7/dist-packages/sklearn/utils/deprecation.py:122: FutureWarning: You are accessing a training score ('std_train_score'), which will not be available by default any more in 0.21. If you need training scores, please set return_train_score=True\n",
      "  warnings.warn(*warn_args, **warn_kwargs)\n"
     ]
    },
    {
     "data": {
      "text/plain": [
       "{'mean_fit_time': array([0.40838734, 0.46559207, 0.7766877 , 0.31894533, 0.81754033,\n",
       "        1.03859639, 0.42567197, 2.34820843, 1.17121077]),\n",
       " 'mean_score_time': array([0.12808998, 0.1214629 , 0.18816797, 0.08296299, 0.12528809,\n",
       "        0.19268537, 0.08207838, 0.09788521, 0.19192068]),\n",
       " 'mean_test_score': array([0.7425    , 0.7425    , 0.7425    , 0.80383333, 0.805     ,\n",
       "        0.7455    , 0.80383333, 0.788     , 0.73833333]),\n",
       " 'mean_train_score': array([0.7425    , 0.7425    , 0.7425    , 0.80508333, 0.8175    ,\n",
       "        0.95191667, 0.80466667, 0.83458333, 0.99908333]),\n",
       " 'param_C': masked_array(data=[0.01, 0.01, 0.01, 1.0, 1.0, 1.0, 100.0, 100.0, 100.0],\n",
       "              mask=[False, False, False, False, False, False, False, False,\n",
       "                    False],\n",
       "        fill_value='?',\n",
       "             dtype=object),\n",
       " 'param_gamma': masked_array(data=[0.01, 1.0, 100.0, 0.01, 1.0, 100.0, 0.01, 1.0, 100.0],\n",
       "              mask=[False, False, False, False, False, False, False, False,\n",
       "                    False],\n",
       "        fill_value='?',\n",
       "             dtype=object),\n",
       " 'params': [{'C': 0.01, 'gamma': 0.01},\n",
       "  {'C': 0.01, 'gamma': 1.0},\n",
       "  {'C': 0.01, 'gamma': 100.0},\n",
       "  {'C': 1.0, 'gamma': 0.01},\n",
       "  {'C': 1.0, 'gamma': 1.0},\n",
       "  {'C': 1.0, 'gamma': 100.0},\n",
       "  {'C': 100.0, 'gamma': 0.01},\n",
       "  {'C': 100.0, 'gamma': 1.0},\n",
       "  {'C': 100.0, 'gamma': 100.0}],\n",
       " 'rank_test_score': array([6, 6, 6, 2, 1, 5, 2, 4, 9], dtype=int32),\n",
       " 'split0_test_score': array([0.7425, 0.7425, 0.7425, 0.8075, 0.806 , 0.7475, 0.808 , 0.7855,\n",
       "        0.7415]),\n",
       " 'split0_train_score': array([0.7425 , 0.7425 , 0.7425 , 0.804  , 0.81875, 0.95   , 0.80425,\n",
       "        0.8345 , 0.9995 ]),\n",
       " 'split1_test_score': array([0.7425, 0.7425, 0.7425, 0.807 , 0.81  , 0.7435, 0.8085, 0.7905,\n",
       "        0.7345]),\n",
       " 'split1_train_score': array([0.7425 , 0.7425 , 0.7425 , 0.8035 , 0.81425, 0.95175, 0.8025 ,\n",
       "        0.835  , 0.99875]),\n",
       " 'split2_test_score': array([0.7425, 0.7425, 0.7425, 0.797 , 0.799 , 0.7455, 0.795 , 0.788 ,\n",
       "        0.739 ]),\n",
       " 'split2_train_score': array([0.7425 , 0.7425 , 0.7425 , 0.80775, 0.8195 , 0.954  , 0.80725,\n",
       "        0.83425, 0.999  ]),\n",
       " 'std_fit_time': array([0.09178736, 0.00268268, 0.00460956, 0.00130696, 0.02502233,\n",
       "        0.01723757, 0.01133901, 0.4472517 , 0.05516294]),\n",
       " 'std_score_time': array([0.05161493, 0.00031828, 0.00032114, 0.00042362, 0.00160064,\n",
       "        0.00277339, 0.0010391 , 0.00475415, 0.00173891]),\n",
       " 'std_test_score': array([0.        , 0.        , 0.        , 0.00483621, 0.00454606,\n",
       "        0.00163299, 0.00624944, 0.00204124, 0.00289636]),\n",
       " 'std_train_score': array([0.        , 0.        , 0.        , 0.00189663, 0.0023184 ,\n",
       "        0.00163724, 0.00196143, 0.0003118 , 0.0003118 ])}"
      ]
     },
     "execution_count": 9,
     "metadata": {},
     "output_type": "execute_result"
    }
   ],
   "source": [
    "models_fits.cv_results_"
   ]
  },
  {
   "cell_type": "code",
   "execution_count": 10,
   "metadata": {},
   "outputs": [],
   "source": [
    "#GridSearchCV?"
   ]
  },
  {
   "cell_type": "code",
   "execution_count": null,
   "metadata": {},
   "outputs": [],
   "source": [
    "\n",
    "\n"
   ]
  }
 ],
 "metadata": {
  "kernelspec": {
   "display_name": "Python 2",
   "language": "python",
   "name": "python2"
  },
  "language_info": {
   "codemirror_mode": {
    "name": "ipython",
    "version": 2
   },
   "file_extension": ".py",
   "mimetype": "text/x-python",
   "name": "python",
   "nbconvert_exporter": "python",
   "pygments_lexer": "ipython2",
   "version": "2.7.9"
  }
 },
 "nbformat": 4,
 "nbformat_minor": 2
}
