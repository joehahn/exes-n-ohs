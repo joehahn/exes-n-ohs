{
 "cells": [
  {
   "cell_type": "code",
   "execution_count": null,
   "metadata": {},
   "outputs": [],
   "source": [
    "#svm_model.ipynb\n",
    "#\n",
    "#by Joe Hahn\n",
    "#joe.hahn@oracle.com\n",
    "#5 July 2018\n",
    "#\n",
    "#train an svm model on the XO dataset, this executes in 30? minutes on m4.xlarge instance"
   ]
  },
  {
   "cell_type": "code",
   "execution_count": null,
   "metadata": {},
   "outputs": [],
   "source": [
    "#set system parameters\n",
    "x_half_width = 0.5\n",
    "radius = 3.5\n",
    "box_half_width = 7.1\n",
    "jitter = 1.0\n",
    "rn_seed = 13\n",
    "initial_id = 0"
   ]
  },
  {
   "cell_type": "code",
   "execution_count": null,
   "metadata": {},
   "outputs": [],
   "source": [
    "#start time\n",
    "import time as tm\n",
    "time_start = tm.time()"
   ]
  },
  {
   "cell_type": "code",
   "execution_count": null,
   "metadata": {},
   "outputs": [],
   "source": [
    "#generate smallish sample training data...so that model hyperparameters can be tuned quickly\n",
    "N_dots = 20000\n",
    "import numpy as np\n",
    "rn_state = np.random.RandomState(seed=rn_seed)\n",
    "from helper_fns import *\n",
    "train = make_xo_df(N_dots, initial_id, x_half_width, radius, box_half_width, jitter)\n",
    "train.tail()"
   ]
  },
  {
   "cell_type": "code",
   "execution_count": null,
   "metadata": {},
   "outputs": [],
   "source": [
    "#prep plots\n",
    "%matplotlib inline\n",
    "import matplotlib.pyplot as plt\n",
    "from matplotlib import rcParams\n",
    "import seaborn as sns\n",
    "sns.set(font_scale=1.5, font='DejaVu Sans')"
   ]
  },
  {
   "cell_type": "code",
   "execution_count": null,
   "metadata": {},
   "outputs": [],
   "source": [
    "#scatterplot of noisy training data\n",
    "df = train\n",
    "xy_rng = (-5, 5)\n",
    "sz = 30\n",
    "f, ax = plt.subplots(figsize=(10,10))\n",
    "lbl = 'B'\n",
    "idx = (df['class'] == lbl)\n",
    "xp = df[idx].x\n",
    "yp = df[idx].y\n",
    "p = sns.regplot(xp, yp, ax=ax, fit_reg=False, scatter_kws={'alpha':0.6, 's': sz}, marker='s', label=lbl)\n",
    "lbl = 'X'\n",
    "idx = (df['class'] == lbl)\n",
    "xp = df[idx].x\n",
    "yp = df[idx].y\n",
    "p = sns.regplot(xp, yp, ax=ax, fit_reg=False, scatter_kws={'alpha':0.6, 's': sz}, marker='s', label=lbl)\n",
    "lbl = 'O'\n",
    "idx = (df['class'] == lbl)\n",
    "xp = df[idx].x\n",
    "yp = df[idx].y\n",
    "p = sns.regplot(xp, yp, ax=ax, fit_reg=False, scatter_kws={'alpha':0.6, 's': sz}, marker='s', label=lbl)\n",
    "p = ax.set_title('sample of noisy X-O data')\n",
    "p = ax.set_xlabel('x')\n",
    "p = ax.set_ylabel('y')\n",
    "p = ax.set_xlim(xy_rng)\n",
    "p = ax.set_ylim(xy_rng)\n",
    "plt.savefig('figs/training_data.png')"
   ]
  },
  {
   "cell_type": "code",
   "execution_count": null,
   "metadata": {},
   "outputs": [],
   "source": [
    "#check class balance\n",
    "cols = ['id', 'class']\n",
    "N = train[cols].groupby('class').count().sort_values('id')\n",
    "N"
   ]
  },
  {
   "cell_type": "code",
   "execution_count": null,
   "metadata": {},
   "outputs": [],
   "source": [
    "#rebalance training data\n",
    "idx_O = (train['class'] == 'O')\n",
    "idx_X = (train['class'] == 'X')\n",
    "idx_B = (train['class'] == 'B')\n",
    "train_balanced = train[idx_O].append(train[idx_X]).append(train[idx_B].sample(n=idx_O.sum()))\n",
    "train_balanced[cols].groupby('class').count()"
   ]
  },
  {
   "cell_type": "code",
   "execution_count": null,
   "metadata": {},
   "outputs": [],
   "source": [
    "#get features x and target variable y\n",
    "x_cols = ['x', 'y']\n",
    "y_col = 'class'\n",
    "x = train_balanced[x_cols]\n",
    "y = train_balanced[y_col]"
   ]
  },
  {
   "cell_type": "code",
   "execution_count": null,
   "metadata": {
    "scrolled": false
   },
   "outputs": [],
   "source": [
    "#grid-search across hyperparameters, executed in parallel on all available cpus (4 cpus on m4.xlarge)\n",
    "#this takes several minutes...executes more slowly for gamma>>1\n",
    "from sklearn.svm import SVC\n",
    "model = SVC(kernel='rbf', probability=True)\n",
    "from sklearn.model_selection import GridSearchCV\n",
    "Cs = [0.001, 0.01, 0.1, 1.0, 10.0]\n",
    "gammas = [0.01, 0.1, 1.0, 3.0, 10.0]\n",
    "hperparameters = {'C':Cs, 'gamma':gammas}\n",
    "model_grid = GridSearchCV(model, hperparameters, verbose=2, n_jobs=-1).fit(x, y)"
   ]
  },
  {
   "cell_type": "code",
   "execution_count": null,
   "metadata": {
    "scrolled": false
   },
   "outputs": [],
   "source": [
    "#GridSearchCV's recommended model and hyperparameters\n",
    "best_params_ = model_grid.best_params_\n",
    "C = best_params_['C']\n",
    "gamma =  best_params_['gamma']\n",
    "best_score = model_grid.best_score_\n",
    "print best_score\n",
    "print best_params_\n",
    "print C, gamma\n",
    "#model_grid.cv_results_"
   ]
  },
  {
   "cell_type": "code",
   "execution_count": null,
   "metadata": {
    "scrolled": false
   },
   "outputs": [],
   "source": [
    "#now train SVC model on x10 larger dataset\n",
    "N_dots *= 10\n",
    "train = make_xo_df(N_dots, initial_id, x_half_width, radius, box_half_width, jitter)\n",
    "print train.shape\n",
    "idx_O = (train['class'] == 'O')\n",
    "idx_X = (train['class'] == 'X')\n",
    "idx_B = (train['class'] == 'B')\n",
    "train_balanced = train[idx_O].append(train[idx_X]).append(train[idx_B].sample(n=idx_O.sum()))\n",
    "print train_balanced[cols].groupby('class').count()\n",
    "x = train_balanced[x_cols]\n",
    "y = train_balanced[y_col]\n",
    "model = SVC(kernel='rbf', C=C, gamma=gamma, probability=True).fit(x, y)"
   ]
  },
  {
   "cell_type": "code",
   "execution_count": null,
   "metadata": {},
   "outputs": [],
   "source": [
    "#generate predictions on testing dataset\n",
    "N_dots = 20000\n",
    "test = make_xo_df(N_dots, initial_id, x_half_width, radius, box_half_width, jitter)\n",
    "x = test[x_cols]\n",
    "test['class_pred'] = model.predict(x)\n",
    "test.head()"
   ]
  },
  {
   "cell_type": "code",
   "execution_count": null,
   "metadata": {},
   "outputs": [],
   "source": [
    "#scatterplot showing model's predicted decision boundaries\n",
    "df = test\n",
    "xy_rng = (-6.5, 6.5)\n",
    "sz = 30\n",
    "f, ax = plt.subplots(figsize=(10,10))\n",
    "lbl = 'B'\n",
    "idx = (df['class_pred'] == lbl)\n",
    "xp = df[idx].x\n",
    "yp = df[idx].y\n",
    "p = sns.regplot(xp, yp, ax=ax, fit_reg=False, scatter_kws={'alpha':0.6, 's': sz}, marker='s', label=lbl)\n",
    "lbl = 'X'\n",
    "idx = (df['class_pred'] == lbl)\n",
    "xp = df[idx].x\n",
    "yp = df[idx].y\n",
    "p = sns.regplot(xp, yp, ax=ax, fit_reg=False, scatter_kws={'alpha':0.6, 's': sz}, marker='s', label=lbl)\n",
    "lbl = 'O'\n",
    "idx = (df['class_pred'] == lbl)\n",
    "xp = df[idx].x\n",
    "yp = df[idx].y\n",
    "p = sns.regplot(xp, yp, ax=ax, fit_reg=False, scatter_kws={'alpha':0.6, 's': sz}, marker='s', label=lbl)\n",
    "p = ax.set_title('SVM-generated decision boundaries')\n",
    "p = ax.set_xlabel('x')\n",
    "p = ax.set_ylabel('y')\n",
    "p = ax.set_xlim(xy_rng)\n",
    "p = ax.set_ylim(xy_rng)\n",
    "plt.savefig('figs/svm_decision_boundary.png')"
   ]
  },
  {
   "cell_type": "code",
   "execution_count": null,
   "metadata": {},
   "outputs": [],
   "source": [
    "#model accuracy\n",
    "idx = (test['class'] == test['class_pred'])\n",
    "accuracy = idx.sum()*1.0/len(idx)\n",
    "print 'model accuracy = ', accuracy"
   ]
  },
  {
   "cell_type": "code",
   "execution_count": null,
   "metadata": {},
   "outputs": [],
   "source": [
    "#done\n",
    "time_stop = tm.time()\n",
    "print 'execution time (minutes) = ', (time_stop - time_start)/60.0"
   ]
  },
  {
   "cell_type": "code",
   "execution_count": null,
   "metadata": {},
   "outputs": [],
   "source": []
  }
 ],
 "metadata": {
  "kernelspec": {
   "display_name": "Python 2",
   "language": "python",
   "name": "python2"
  },
  "language_info": {
   "codemirror_mode": {
    "name": "ipython",
    "version": 2
   },
   "file_extension": ".py",
   "mimetype": "text/x-python",
   "name": "python",
   "nbconvert_exporter": "python",
   "pygments_lexer": "ipython2",
   "version": "2.7.9"
  }
 },
 "nbformat": 4,
 "nbformat_minor": 2
}
