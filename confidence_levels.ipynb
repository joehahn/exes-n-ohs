{
 "cells": [
  {
   "cell_type": "code",
   "execution_count": 1,
   "metadata": {
    "extensions": {
     "jupyter_dashboards": {
      "version": 1,
      "views": {
       "grid_default": {
        "hidden": true
       },
       "report_default": {}
      }
     }
    }
   },
   "outputs": [],
   "source": [
    "#confidence_levels.ipynb \n",
    "# \n",
    "#by Joe Hahn\n",
    "#joe.hahn@oracle.com\n",
    "#18 July 2018\n",
    "#\n",
    "#plot the CNET model's confidence levels"
   ]
  },
  {
   "cell_type": "code",
   "execution_count": 2,
   "metadata": {
    "extensions": {
     "jupyter_dashboards": {
      "version": 1,
      "views": {
       "grid_default": {
        "hidden": true
       },
       "report_default": {}
      }
     }
    }
   },
   "outputs": [],
   "source": [
    "#set system parameters\n",
    "x_half_width = 0.5\n",
    "radius = 3.5\n",
    "box_half_width = 7.1\n",
    "jitter = 1.0\n",
    "rn_seed = 25\n",
    "initial_id = 0"
   ]
  },
  {
   "cell_type": "code",
   "execution_count": 3,
   "metadata": {
    "extensions": {
     "jupyter_dashboards": {
      "version": 1,
      "views": {
       "grid_default": {
        "col": 0,
        "height": 8,
        "hidden": true,
        "row": 0,
        "width": 7
       },
       "report_default": {}
      }
     }
    }
   },
   "outputs": [],
   "source": [
    "#generate sample of xo data\n",
    "N_dots = 20000\n",
    "import numpy as np\n",
    "rn_state = np.random.RandomState(seed=rn_seed)\n",
    "from helper_fns import *\n",
    "xo = make_xo_df(N_dots, initial_id, x_half_width, radius, box_half_width, jitter)\n",
    "#xo.tail()"
   ]
  },
  {
   "cell_type": "code",
   "execution_count": 4,
   "metadata": {
    "extensions": {
     "jupyter_dashboards": {
      "version": 1,
      "views": {
       "grid_default": {
        "col": 0,
        "height": 4,
        "hidden": false,
        "row": 0,
        "width": 12
       },
       "report_default": {}
      }
     }
    }
   },
   "outputs": [
    {
     "name": "stdout",
     "output_type": "stream",
     "text": [
      "(20000, 2) (20000, 3)\n"
     ]
    }
   ],
   "source": [
    "#extract x-features and y = target variables\n",
    "x_cols = ['x', 'y']\n",
    "y_cols = ['O_score', 'X_score', 'B_score']\n",
    "x = xo[x_cols].values\n",
    "y = xo[y_cols].values\n",
    "print x.shape, y.shape"
   ]
  },
  {
   "cell_type": "code",
   "execution_count": 7,
   "metadata": {
    "extensions": {
     "jupyter_dashboards": {
      "version": 1,
      "views": {
       "grid_default": {
        "hidden": true
       },
       "report_default": {}
      }
     }
    }
   },
   "outputs": [],
   "source": [
    "#load cnet model\n",
    "from keras.models import load_model\n",
    "model = load_model('cnet_model.h5')"
   ]
  },
  {
   "cell_type": "code",
   "execution_count": 13,
   "metadata": {
    "extensions": {
     "jupyter_dashboards": {
      "version": 1,
      "views": {
       "grid_default": {
        "col": 0,
        "height": 12,
        "hidden": false,
        "row": 4,
        "width": 12
       },
       "report_default": {}
      }
     }
    }
   },
   "outputs": [
    {
     "data": {
      "text/html": [
       "<div>\n",
       "<style scoped>\n",
       "    .dataframe tbody tr th:only-of-type {\n",
       "        vertical-align: middle;\n",
       "    }\n",
       "\n",
       "    .dataframe tbody tr th {\n",
       "        vertical-align: top;\n",
       "    }\n",
       "\n",
       "    .dataframe thead th {\n",
       "        text-align: right;\n",
       "    }\n",
       "</style>\n",
       "<table border=\"1\" class=\"dataframe\">\n",
       "  <thead>\n",
       "    <tr style=\"text-align: right;\">\n",
       "      <th></th>\n",
       "      <th>id</th>\n",
       "      <th>x</th>\n",
       "      <th>y</th>\n",
       "      <th>class</th>\n",
       "      <th>class_score</th>\n",
       "      <th>class_pred</th>\n",
       "    </tr>\n",
       "    <tr>\n",
       "      <th>record</th>\n",
       "      <th></th>\n",
       "      <th></th>\n",
       "      <th></th>\n",
       "      <th></th>\n",
       "      <th></th>\n",
       "      <th></th>\n",
       "    </tr>\n",
       "  </thead>\n",
       "  <tbody>\n",
       "    <tr>\n",
       "      <th>0</th>\n",
       "      <td>0</td>\n",
       "      <td>7.521720</td>\n",
       "      <td>1.063846</td>\n",
       "      <td>B</td>\n",
       "      <td>0.983288</td>\n",
       "      <td>B</td>\n",
       "    </tr>\n",
       "    <tr>\n",
       "      <th>1</th>\n",
       "      <td>1</td>\n",
       "      <td>-2.405319</td>\n",
       "      <td>-5.566259</td>\n",
       "      <td>B</td>\n",
       "      <td>0.575314</td>\n",
       "      <td>B</td>\n",
       "    </tr>\n",
       "    <tr>\n",
       "      <th>2</th>\n",
       "      <td>2</td>\n",
       "      <td>-3.277625</td>\n",
       "      <td>-5.264864</td>\n",
       "      <td>X</td>\n",
       "      <td>0.638419</td>\n",
       "      <td>X</td>\n",
       "    </tr>\n",
       "    <tr>\n",
       "      <th>3</th>\n",
       "      <td>3</td>\n",
       "      <td>2.412758</td>\n",
       "      <td>5.741974</td>\n",
       "      <td>B</td>\n",
       "      <td>0.595586</td>\n",
       "      <td>B</td>\n",
       "    </tr>\n",
       "    <tr>\n",
       "      <th>4</th>\n",
       "      <td>4</td>\n",
       "      <td>7.018886</td>\n",
       "      <td>-1.073040</td>\n",
       "      <td>B</td>\n",
       "      <td>0.911727</td>\n",
       "      <td>B</td>\n",
       "    </tr>\n",
       "    <tr>\n",
       "      <th>5</th>\n",
       "      <td>5</td>\n",
       "      <td>0.173553</td>\n",
       "      <td>-2.531221</td>\n",
       "      <td>X</td>\n",
       "      <td>0.498658</td>\n",
       "      <td>O</td>\n",
       "    </tr>\n",
       "    <tr>\n",
       "      <th>6</th>\n",
       "      <td>6</td>\n",
       "      <td>2.211263</td>\n",
       "      <td>-6.226027</td>\n",
       "      <td>B</td>\n",
       "      <td>0.724250</td>\n",
       "      <td>B</td>\n",
       "    </tr>\n",
       "    <tr>\n",
       "      <th>7</th>\n",
       "      <td>7</td>\n",
       "      <td>4.730813</td>\n",
       "      <td>-1.111841</td>\n",
       "      <td>O</td>\n",
       "      <td>0.495554</td>\n",
       "      <td>B</td>\n",
       "    </tr>\n",
       "    <tr>\n",
       "      <th>8</th>\n",
       "      <td>8</td>\n",
       "      <td>3.642523</td>\n",
       "      <td>-0.106196</td>\n",
       "      <td>O</td>\n",
       "      <td>0.446783</td>\n",
       "      <td>O</td>\n",
       "    </tr>\n",
       "    <tr>\n",
       "      <th>9</th>\n",
       "      <td>9</td>\n",
       "      <td>3.573174</td>\n",
       "      <td>0.583678</td>\n",
       "      <td>B</td>\n",
       "      <td>0.412619</td>\n",
       "      <td>O</td>\n",
       "    </tr>\n",
       "  </tbody>\n",
       "</table>\n",
       "</div>"
      ],
      "text/plain": [
       "        id         x         y class  class_score class_pred\n",
       "record                                                      \n",
       "0        0  7.521720  1.063846     B     0.983288          B\n",
       "1        1 -2.405319 -5.566259     B     0.575314          B\n",
       "2        2 -3.277625 -5.264864     X     0.638419          X\n",
       "3        3  2.412758  5.741974     B     0.595586          B\n",
       "4        4  7.018886 -1.073040     B     0.911727          B\n",
       "5        5  0.173553 -2.531221     X     0.498658          O\n",
       "6        6  2.211263 -6.226027     B     0.724250          B\n",
       "7        7  4.730813 -1.111841     O     0.495554          B\n",
       "8        8  3.642523 -0.106196     O     0.446783          O\n",
       "9        9  3.573174  0.583678     B     0.412619          O"
      ]
     },
     "execution_count": 13,
     "metadata": {},
     "output_type": "execute_result"
    }
   ],
   "source": [
    "#generate predictions and stash results in xo dataframe\n",
    "y_pred = model.predict(x)     #wow this executes really slowly, why?!?\n",
    "import pandas as pd\n",
    "cols = [col + '_pred' for col in y_cols]\n",
    "y_pred_df = pd.DataFrame(data=y_pred, columns=cols)\n",
    "#normalize class scores\n",
    "xo['sum'] = 0.0\n",
    "for col in y_pred_df.columns:\n",
    "    xo[col] = y_pred_df[col]\n",
    "    xo['sum'] += y_pred_df[col]\n",
    "for col in y_pred_df.columns:\n",
    "    xo[col] /= xo['sum']\n",
    "xo['sum'] = 0.0\n",
    "for col in y_pred_df.columns:\n",
    "    xo['sum'] += xo[col]\n",
    "cols = y_pred_df.columns\n",
    "xo['class_score'] = xo.apply(lambda x: x[cols].max(), axis=1)\n",
    "xo['class_pred'] = xo.apply(lambda x: cols[x[cols].values.argmax()][0], axis=1)\n",
    "cols = ['id', 'x', 'y', 'class', 'class_score', 'class_pred']\n",
    "xo[cols].head(10)"
   ]
  },
  {
   "cell_type": "code",
   "execution_count": null,
   "metadata": {
    "extensions": {
     "jupyter_dashboards": {
      "version": 1,
      "views": {
       "grid_default": {
        "hidden": true
       },
       "report_default": {}
      }
     }
    }
   },
   "outputs": [],
   "source": [
    "#prep plots\n",
    "%matplotlib inline\n",
    "import matplotlib.pyplot as plt\n",
    "from matplotlib import rcParams\n",
    "import seaborn as sns\n",
    "sns.set(font_scale=1.5, font='DejaVu Sans')"
   ]
  },
  {
   "cell_type": "code",
   "execution_count": null,
   "metadata": {
    "extensions": {
     "jupyter_dashboards": {
      "version": 1,
      "views": {
       "grid_default": {
        "col": 0,
        "height": 15,
        "hidden": false,
        "row": 16,
        "width": 12
       },
       "report_default": {}
      }
     }
    }
   },
   "outputs": [],
   "source": [
    "#histogram model confidence\n",
    "N_bins = 101\n",
    "fig, ax = plt.subplots(1,1, figsize=(15, 6))\n",
    "#historgram all predictions\n",
    "xp = xo.class_score\n",
    "p = sns.distplot(xp, bins=N_bins, ax=ax, kde=False, color='blue', label='all predictions')\n",
    "#histogram incorrect predictions\n",
    "idx = (xo['class'] != xo['class_pred'])\n",
    "xp = xo[idx].class_score\n",
    "p = sns.distplot(xp, bins=N_bins, ax=ax, kde=False, color='red', label='incorrect predictions')\n",
    "p = ax.set_title('histogram of model confidence scores')\n",
    "p = ax.set_xlabel('model confidence score')\n",
    "p = ax.set_ylabel('number of records')\n",
    "p = ax.legend()\n",
    "ax.figure.savefig('figs/cnet_confidence_scores.png')"
   ]
  },
  {
   "cell_type": "code",
   "execution_count": null,
   "metadata": {
    "extensions": {
     "jupyter_dashboards": {
      "version": 1,
      "views": {
       "grid_default": {
        "col": 0,
        "height": 21,
        "hidden": false,
        "row": 31,
        "width": 8
       },
       "report_default": {}
      }
     }
    }
   },
   "outputs": [],
   "source": [
    "#scatterplot showing model's predicted decision boundaries\n",
    "df = xo\n",
    "xy_rng = (-6.5, 6.5)\n",
    "sz = 30\n",
    "f, ax = plt.subplots(figsize=(10,10))\n",
    "clr_idx = -1\n",
    "#B predictions having class_score>0.85\n",
    "lbl = 'B'\n",
    "clr_idx += 1\n",
    "clr = colors = plt.rcParams[\"axes.prop_cycle\"].by_key()[\"color\"][clr_idx]\n",
    "idx = (df['class_pred'] == lbl) & (df['class_score'] > 0.8)\n",
    "p = sns.regplot(df[idx].x, df[idx].y, ax=ax, fit_reg=False, color=clr, scatter_kws={'alpha':0.9, 's': sz}, marker='s')\n",
    "#B predictions having 0.7>class_score>0.85\n",
    "idx = (df['class_pred'] == lbl) & (df['class_score'] > 0.65) & (df['class_score'] < 0.8)\n",
    "p = sns.regplot(df[idx].x, df[idx].y, ax=ax, fit_reg=False, color=clr, scatter_kws={'alpha':0.35, 's': sz}, marker='s')\n",
    "#B predictions having class_score<0.7\n",
    "idx = (df['class_pred'] == lbl) & (df['class_score'] < 0.65)\n",
    "p = sns.regplot(df[idx].x, df[idx].y, ax=ax, fit_reg=False, color=clr, scatter_kws={'alpha':0.1, 's': sz}, marker='s')\n",
    "#X predictions having class_score>0.7\n",
    "lbl = 'X'\n",
    "clr_idx += 1\n",
    "clr = colors = plt.rcParams[\"axes.prop_cycle\"].by_key()[\"color\"][clr_idx]\n",
    "idx = (df['class_pred'] == lbl) & (df['class_score'] > 0.8)\n",
    "p = sns.regplot(df[idx].x, df[idx].y, ax=ax, fit_reg=False, color=clr, scatter_kws={'alpha':0.9, 's': sz}, marker='s')\n",
    "#X predictions having 0.5>class_score>0.7\n",
    "idx = (df['class_pred'] == lbl) & (df['class_score'] > 0.65) & (df['class_score'] < 0.8)\n",
    "p = sns.regplot(df[idx].x, df[idx].y, ax=ax, fit_reg=False, color=clr, scatter_kws={'alpha':0.4, 's': sz}, marker='s')\n",
    "#X predictions having class_score<0.5\n",
    "idx = (df['class_pred'] == lbl) & (df['class_score'] < 0.65)\n",
    "p = sns.regplot(df[idx].x, df[idx].y, ax=ax, fit_reg=False, color=clr, scatter_kws={'alpha':0.1, 's': sz}, marker='s')\n",
    "#O predictions having class_score>0.85\n",
    "lbl = 'O'\n",
    "clr_idx += 1\n",
    "clr = colors = plt.rcParams[\"axes.prop_cycle\"].by_key()[\"color\"][clr_idx]\n",
    "idx = (df['class_pred'] == lbl) & (df['class_score'] > 0.8)\n",
    "p = sns.regplot(df[idx].x, df[idx].y, ax=ax, fit_reg=False, color=clr, scatter_kws={'alpha':0.9, 's': sz}, marker='s')\n",
    "#X predictions having 0.7>class_score>0.85\n",
    "idx = (df['class_pred'] == lbl) & (df['class_score'] > 0.65) & (df['class_score'] < 0.8)\n",
    "p = sns.regplot(df[idx].x, df[idx].y, ax=ax, fit_reg=False, color=clr, scatter_kws={'alpha':0.4, 's': sz}, marker='s')\n",
    "#X predictions having class_score<0.7\n",
    "idx = (df['class_pred'] == lbl) & (df['class_score'] < 0.65)\n",
    "p = sns.regplot(df[idx].x, df[idx].y, ax=ax, fit_reg=False, color=clr, scatter_kws={'alpha':0.1, 's': sz}, marker='s')\n",
    "p = ax.set_title('MLP confidence intervals')\n",
    "p = ax.set_xlabel('x')\n",
    "p = ax.set_ylabel('y')\n",
    "p = ax.set_xlim(xy_rng)\n",
    "p = ax.set_ylim(xy_rng)\n",
    "plt.savefig('figs/mlp_confidence_boundary.png')"
   ]
  },
  {
   "cell_type": "code",
   "execution_count": null,
   "metadata": {
    "extensions": {
     "jupyter_dashboards": {
      "version": 1,
      "views": {
       "grid_default": {
        "hidden": true
       },
       "report_default": {}
      }
     }
    }
   },
   "outputs": [],
   "source": []
  }
 ],
 "metadata": {
  "extensions": {
   "jupyter_dashboards": {
    "activeView": "grid_default",
    "version": 1,
    "views": {
     "grid_default": {
      "cellMargin": 10,
      "defaultCellHeight": 20,
      "maxColumns": 12,
      "name": "grid",
      "type": "grid"
     },
     "report_default": {
      "name": "report",
      "type": "report"
     }
    }
   }
  },
  "kernelspec": {
   "display_name": "Python 2",
   "language": "python",
   "name": "python2"
  },
  "language_info": {
   "codemirror_mode": {
    "name": "ipython",
    "version": 2
   },
   "file_extension": ".py",
   "mimetype": "text/x-python",
   "name": "python",
   "nbconvert_exporter": "python",
   "pygments_lexer": "ipython2",
   "version": "2.7.9"
  }
 },
 "nbformat": 4,
 "nbformat_minor": 2
}
